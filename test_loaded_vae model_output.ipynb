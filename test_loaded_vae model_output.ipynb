{
 "cells": [
  {
   "cell_type": "code",
   "execution_count": 1,
   "metadata": {},
   "outputs": [],
   "source": [
    "import matplotlib.colors as colors\n",
    "from matplotlib.colors import LogNorm\n",
    "import h5py, os, sys, glob, datetime, time\n",
    "import numpy as np\n",
    "from glob import glob\n",
    "import matplotlib.pyplot as plt"
   ]
  },
  {
   "cell_type": "markdown",
   "metadata": {},
   "source": [
    "plotting"
   ]
  },
  {
   "cell_type": "code",
   "execution_count": 11,
   "metadata": {},
   "outputs": [],
   "source": [
    "def plot_hist( data, xlabel, ylabel, title, plotname='', legend=[], ylogscale=True ):\n",
    "    fig = plt.figure( )\n",
    "    plot_hist_on_axis( plt.gca(), data, xlabel, ylabel, title, legend, ylogscale )\n",
    "    if legend:\n",
    "        plt.legend()\n",
    "    plt.tight_layout()\n",
    "    #fig.savefig('fig/' + plotname + '_hist.png')\n",
    "    plt.show()\n",
    "    plt.close()\n",
    "\n",
    "\n",
    "def plot_hist_on_axis( ax, data, xlabel, ylabel, title, legend=[], ylogscale=True ):\n",
    "    bin_num = 70\n",
    "    alpha = 0.85\n",
    "    if ylogscale:\n",
    "        ax.set_yscale('log', nonposy='clip')\n",
    "    ax.hist( data, bins=bin_num, normed=True, alpha=alpha, histtype='stepfilled', label=legend )\n",
    "    ax.set_ylabel( ylabel )\n",
    "    ax.set_xlabel( xlabel )\n",
    "    ax.set_title( title, fontsize=10 )\n",
    "    ax.tick_params(axis='both', which='minor', labelsize=8)\n",
    "    #ax.set_ylim(bottom=1e-7)"
   ]
  },
  {
   "cell_type": "markdown",
   "metadata": {},
   "source": [
    "read A to HZ to ZZZ data"
   ]
  },
  {
   "cell_type": "code",
   "execution_count": 8,
   "metadata": {},
   "outputs": [
    {
     "name": "stdout",
     "output_type": "stream",
     "text": [
      "Labels:\n",
      "['mJJ', 'j1Pt', 'j1Eta', 'j1Phi', 'j1M', 'j1E', 'j2Pt', 'j2M', 'j2E', 'DeltaEtaJJ', 'DeltaPhiJJ', 'j1TotalLoss', 'j1RecoLoss', 'j1KlLoss', 'j2TotalLoss', 'j2RecoLoss', 'j2KlLoss']\n",
      "('read ', 63128, ' events')\n"
     ]
    }
   ],
   "source": [
    "Mjj_selection = 1100.0\n",
    "\n",
    "file_dir = '/afs/cern.ch/work/k/kiwoznia/vae_results/results_before_max_pixel/vae_built_model_results/AtoHZ_to_ZZZ_13TeV_PU40'\n",
    "\n",
    "data = None\n",
    "flist = glob(file_dir + '/' + '*result.h5')\n",
    "labels = None\n",
    "#print(flist)\n",
    "for i_file, fname in enumerate(flist):\n",
    "    f = h5py.File(fname, 'r')\n",
    "    #print(f.keys())\n",
    "    aux_evts = np.array(f.get('results'))\n",
    "    aux_evts = aux_evts[aux_evts[:,0] > Mjj_selection]\n",
    "    if data is None:\n",
    "        labels = list(f.get('labels'))\n",
    "        print('Labels:')\n",
    "        print(labels)\n",
    "        data = aux_evts\n",
    "    else:\n",
    "        data = np.append(data, aux_evts, axis=0)\n",
    "\n",
    "print('read ', data.shape[0], ' events')"
   ]
  },
  {
   "cell_type": "code",
   "execution_count": 9,
   "metadata": {},
   "outputs": [
    {
     "name": "stdout",
     "output_type": "stream",
     "text": [
      "(63128,)\n"
     ]
    }
   ],
   "source": [
    "# convert data to recarray\n",
    "dt = [(str(s), '<f4') for s in labels]\n",
    "data = np.array(list(zip(*data.T)), dtype=dt)\n",
    "print(data.shape)"
   ]
  },
  {
   "cell_type": "code",
   "execution_count": 12,
   "metadata": {},
   "outputs": [
    {
     "data": {
      "image/png": "[encoded data removed]",
      "text/plain": [
       "<matplotlib.figure.Figure at 0x7f23b42d3d50>"
      ]
     },
     "metadata": {},
     "output_type": "display_data"
    },
    {
     "data": {
      "image/png": "[encoded data removed]",
      "text/plain": [
       "<matplotlib.figure.Figure at 0x7f23c42a6bd0>"
      ]
     },
     "metadata": {},
     "output_type": "display_data"
    }
   ],
   "source": [
    "# plot loss 1D distribution\n",
    "label = 'A to HZ to ZZZ'\n",
    "n = 'A_to_HZ_to_ZZZ'\n",
    "y = np.minimum(data['j1RecoLoss'],data['j2RecoLoss'])\n",
    "plot_hist( y, 'min(L1,L2)', 'frac evts', 'min(L1,L2) '+label, n+'_min_j1j2_total_loss_loaded_vae' )\n",
    "y = data['j1RecoLoss']+data['j2RecoLoss']\n",
    "plot_hist( y, 'L1 + L2', 'frac evts', 'L1 + L2 '+label, n+'_sum_j1j2_reco_loss_loaded_vae' )"
   ]
  },
  {
   "cell_type": "code",
   "execution_count": null,
   "metadata": {},
   "outputs": [],
   "source": []
  }
 ],
 "metadata": {
  "kernelspec": {
   "display_name": "Python 3",
   "language": "python",
   "name": "python3"
  },
  "language_info": {
   "codemirror_mode": {
    "name": "ipython",
    "version": 3
   },
   "file_extension": ".py",
   "mimetype": "text/x-python",
   "name": "python",
   "nbconvert_exporter": "python",
   "pygments_lexer": "ipython3",
   "version": "3.6.0"
  }
 },
 "nbformat": 4,
 "nbformat_minor": 2
}
