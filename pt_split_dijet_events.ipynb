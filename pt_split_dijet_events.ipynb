{
 "cells": [
  {
   "cell_type": "code",
   "execution_count": 1,
   "metadata": {},
   "outputs": [],
   "source": [
    "import matplotlib.pyplot as plt\n",
    "import os\n",
    "from reading_util import *"
   ]
  },
  {
   "cell_type": "code",
   "execution_count": 2,
   "metadata": {},
   "outputs": [
    {
     "name": "stdout",
     "output_type": "stream",
     "text": [
      "<KeysViewHDF5 ['eventFeatureNames', 'eventFeatures', 'jetConstituentsList', 'particleFeatureNames']>\n"
     ]
    }
   ],
   "source": [
    "input_dir = '/eos/project/d/dshep/TOPCLASS/DijetAnomaly/VAE_data/split_by_jet1_pt/qcd_sqrtshatTeV_13TeV_PU40_SIDEBAND'\n",
    "file_name = 'qcd_SIDEBAND_concat_mjj_over_1100_ptj1_under_1000_events.h5'\n",
    "file = h5py.File( os.path.join( input_dir, file_name ), 'r')\n",
    "print(file.keys())"
   ]
  },
  {
   "cell_type": "code",
   "execution_count": 3,
   "metadata": {},
   "outputs": [
    {
     "name": "stdout",
     "output_type": "stream",
     "text": [
      "num events =  (3400838, 2, 100, 3)\n"
     ]
    }
   ],
   "source": [
    "jet_const = np.array( file.get('jetConstituentsList') )\n",
    "print('num events = ', jet_const.shape )"
   ]
  },
  {
   "cell_type": "code",
   "execution_count": 4,
   "metadata": {},
   "outputs": [
    {
     "name": "stdout",
     "output_type": "stream",
     "text": [
      "[b'mJJ' b'j1Pt' b'j1Eta' b'j1Phi' b'j1M' b'j1E' b'j2Pt' b'j2M' b'j2E'\n",
      " b'DeltaEtaJJ' b'DeltaPhiJJ']\n",
      "[b'pEta' b'pPhi' b'pPt']\n",
      "11\n"
     ]
    }
   ],
   "source": [
    "jet_feature_names = np.array( file.get('eventFeatureNames'))\n",
    "jet_feature = np.array( file.get('eventFeatures') )\n",
    "print(jet_feature_names)\n",
    "particle_feature_names = np.array( file.get('particleFeatureNames') )\n",
    "print( particle_feature_names )\n",
    "print( len(file.get('eventFeatureNames')) )"
   ]
  },
  {
   "cell_type": "code",
   "execution_count": 5,
   "metadata": {},
   "outputs": [
    {
     "data": {
      "text/plain": [
       "(array([6., 0., 0., 1., 2., 0., 0., 1., 0., 1.]),\n",
       " array([ -3.07281119,  56.11588493, 115.30458105, 174.49327717,\n",
       "        233.68197329, 292.87066941, 352.05936553, 411.24806165,\n",
       "        470.43675777, 529.62545389, 588.81415001]),\n",
       " <a list of 10 Patch objects>)"
      ]
     },
     "execution_count": 5,
     "metadata": {},
     "output_type": "execute_result"
    },
    {
     "data": {
      "image/png": "[encoded data removed]",
      "text/plain": [
       "<Figure size 432x288 with 1 Axes>"
      ]
     },
     "metadata": {
      "needs_background": "light"
     },
     "output_type": "display_data"
    }
   ],
   "source": [
    "plt.hist(jet_feature[:,0])"
   ]
  },
  {
   "cell_type": "code",
   "execution_count": 6,
   "metadata": {},
   "outputs": [
    {
     "data": {
      "text/plain": [
       "0"
      ]
     },
     "execution_count": 6,
     "metadata": {},
     "output_type": "execute_result"
    }
   ],
   "source": [
    "np.sum( jet_feature[0] > 1100)"
   ]
  },
  {
   "cell_type": "code",
   "execution_count": 7,
   "metadata": {},
   "outputs": [
    {
     "name": "stdout",
     "output_type": "stream",
     "text": [
      "[--------------------]  0%3881  events read,  1721  events passed mass cut (size =  8260.8  KB)\n",
      "[--------------------]  0% - ETA: 27.4 h   395682  events read,  172381  events passed mass cut (size =  827428.8  KB)\n",
      "[--------------------]  0% - ETA: 38.1 h   786747  events read,  343564  events passed mass cut (size =  1649107.2  KB)\n",
      "[--------------------]  0% - ETA: 49.9 h   1178485  events read,  515219  events passed mass cut (size =  2473051.2  KB)\n",
      "[--------------------]  0% - ETA: 61.4 h   1569340  events read,  685930  events passed mass cut (size =  3292464.0  KB)\n",
      "[--------------------]  0% - ETA: 73.1 h   1960356  events read,  856195  events passed mass cut (size =  4109736.0  KB)\n",
      "[--------------------]  0% - ETA: 84.8 h   2353008  events read,  1027561  events passed mass cut (size =  4932292.8  KB)\n",
      "[--------------------]  0% - ETA: 96.6 h   2744615  events read,  1198466  events passed mass cut (size =  5752636.8  KB)\n",
      "[--------------------]  0% - ETA:108.7 h   3135147  events read,  1369128  events passed mass cut (size =  6571814.4  KB)\n",
      "[--------------------]  0% - ETA:120.5 h   3527634  events read,  1540544  events passed mass cut (size =  7394611.2  KB)\n",
      "[--------------------]  0% - ETA:132.0 h   3919033  events read,  1711436  events passed mass cut (size =  8214892.8  KB)\n",
      "[--------------------]  0% - ETA:143.8 h   4310741  events read,  1882322  events passed mass cut (size =  9035145.6  KB)\n",
      "[--------------------]  0% - ETA:155.6 h   4702369  events read,  2053008  events passed mass cut (size =  9854438.4  KB)\n",
      "[--------------------]  0% - ETA:167.4 h   5093893  events read,  2224696  events passed mass cut (size =  10678540.8  KB)\n",
      "[--------------------]  0% - ETA:179.4 h   5485354  events read,  2396223  events passed mass cut (size =  11501870.4  KB)\n",
      "[--------------------]  0% - ETA:191.0 h   5877839  events read,  2568198  events passed mass cut (size =  12327350.4  KB)\n",
      "[--------------------]  0% - ETA:202.5 h   6268544  events read,  2738895  events passed mass cut (size =  13146696.0  KB)\n",
      "[--------------------]  0% - ETA:214.1 h   6660699  events read,  2909947  events passed mass cut (size =  13967745.6  KB)\n",
      "[--------------------]  0% - ETA:225.7 h   7052165  events read,  3080841  events passed mass cut (size =  14788036.8  KB)\n",
      "[--------------------]  0% - ETA:236.7 h   7443600  events read,  3252144  events passed mass cut (size =  15610291.2  KB)\n",
      "[--------------------]  0% - ETA:246.3 h   7800019  events read,  3407946  events passed mass cut\n"
     ]
    }
   ],
   "source": [
    "from reading_util import *\n",
    "jet_const_pt1_over, jet_feat_pt1_over, jet_const_pt1_under, jet_feat_pt1_under, keys = read_dijet_events_and_features( input_dir )"
   ]
  },
  {
   "cell_type": "code",
   "execution_count": 14,
   "metadata": {},
   "outputs": [
    {
     "name": "stdout",
     "output_type": "stream",
     "text": [
      "7108\n"
     ]
    },
    {
     "data": {
      "image/png": "[encoded data removed]",
      "text/plain": [
       "<Figure size 432x288 with 1 Axes>"
      ]
     },
     "metadata": {
      "needs_background": "light"
     },
     "output_type": "display_data"
    },
    {
     "data": {
      "image/png": "[encoded data removed]",
      "text/plain": [
       "<Figure size 432x288 with 1 Axes>"
      ]
     },
     "metadata": {
      "needs_background": "light"
     },
     "output_type": "display_data"
    }
   ],
   "source": [
    "plt.hist(jet_feat_pt1_over[:,1])\n",
    "plt.figure()\n",
    "plt.hist(jet_feat_pt1_under[:,1])\n",
    "print(jet_feat_pt1_over.shape[0])"
   ]
  },
  {
   "cell_type": "code",
   "execution_count": 12,
   "metadata": {},
   "outputs": [
    {
     "data": {
      "image/png": "[encoded data removed]",
      "text/plain": [
       "<Figure size 432x288 with 1 Axes>"
      ]
     },
     "metadata": {
      "needs_background": "light"
     },
     "output_type": "display_data"
    },
    {
     "data": {
      "image/png": "[encoded data removed]",
      "text/plain": [
       "<Figure size 432x288 with 1 Axes>"
      ]
     },
     "metadata": {
      "needs_background": "light"
     },
     "output_type": "display_data"
    }
   ],
   "source": [
    "from plotting_util import *\n",
    "plot_hist(jet_feat_pt1_over[:,1],'j1 pt', 'frac events', 'events pt > 1000 qcd side')\n",
    "plot_hist(jet_feat_pt1_under[:,1],'j1 pt', 'frac events', 'events pt < 1000 qcd side')"
   ]
  },
  {
   "cell_type": "code",
   "execution_count": 15,
   "metadata": {},
   "outputs": [],
   "source": [
    "output_dir = '/eos/project/d/dshep/TOPCLASS/DijetAnomaly/VAE_data/split_by_jet1_pt/qcd_sqrtshatTeV_13TeV_PU40_SIDEBAND'\n",
    "output_file_name_pt1_over = 'qcd_SIDEBAND_concat_mjj_over_1100_ptj1_over_1000_events.h5'\n",
    "output_file_name_pt1_under = 'qcd_SIDEBAND_concat_mjj_over_1100_ptj1_under_1000_events.h5'\n",
    "output_file_pt_over = os.path.join(output_dir,output_file_name_pt1_over)\n",
    "output_file_pt_under = os.path.join(output_dir,output_file_name_pt1_under)\n",
    "output_file_pt_over = h5py.File(output_file_pt_over,'w')\n",
    "output_file_pt_under = h5py.File(output_file_pt_under,'w')"
   ]
  },
  {
   "cell_type": "code",
   "execution_count": 17,
   "metadata": {},
   "outputs": [
    {
     "name": "stdout",
     "output_type": "stream",
     "text": [
      "[b'mJJ' b'j1Pt' b'j1Eta' b'j1Phi' b'j1M' b'j1E' b'j2Pt' b'j2M' b'j2E'\n",
      " b'DeltaEtaJJ' b'DeltaPhiJJ']\n",
      "[b'pEta' b'pPhi' b'pPt']\n"
     ]
    }
   ],
   "source": [
    "print(jet_feature_names)\n",
    "print( particle_feature_names )"
   ]
  },
  {
   "cell_type": "code",
   "execution_count": 18,
   "metadata": {},
   "outputs": [
    {
     "name": "stdout",
     "output_type": "stream",
     "text": [
      "7108\n",
      "3400838\n"
     ]
    }
   ],
   "source": [
    "print('num events ptj1 > 1000: ', jet_const_pt1_over.shape[0])\n",
    "print('num events ptj1 <= 1000: ', jet_const_pt1_under.shape[0])"
   ]
  },
  {
   "cell_type": "code",
   "execution_count": 19,
   "metadata": {},
   "outputs": [
    {
     "data": {
      "text/plain": [
       "<HDF5 dataset \"jetConstituentsList\": shape (7108, 2, 100, 3), type \"<f8\">"
      ]
     },
     "execution_count": 19,
     "metadata": {},
     "output_type": "execute_result"
    }
   ],
   "source": [
    "output_file_pt_over.create_dataset('eventFeatureNames', data=jet_feature_names)\n",
    "output_file_pt_over.create_dataset('eventFeatures', data=jet_feat_pt1_over, compression='gzip')\n",
    "output_file_pt_over.create_dataset('particleFeatureNames', data=particle_feature_names)\n",
    "output_file_pt_over.create_dataset('jetConstituentsList',data=jet_const_pt1_over, compression='gzip')\n",
    "output_file_pt_over.close()"
   ]
  },
  {
   "cell_type": "code",
   "execution_count": 20,
   "metadata": {},
   "outputs": [
    {
     "data": {
      "text/plain": [
       "<HDF5 dataset \"jetConstituentsList\": shape (3400838, 2, 100, 3), type \"<f8\">"
      ]
     },
     "execution_count": 20,
     "metadata": {},
     "output_type": "execute_result"
    }
   ],
   "source": [
    "output_file_pt_under.create_dataset('eventFeatureNames', data=jet_feature_names)\n",
    "output_file_pt_under.create_dataset('eventFeatures', data=jet_feat_pt1_under, compression='gzip')\n",
    "output_file_pt_under.create_dataset('particleFeatureNames', data=particle_feature_names)\n",
    "output_file_pt_under.create_dataset('jetConstituentsList',data=jet_const_pt1_under, compression='gzip')\n",
    "output_file_pt_under.close()"
   ]
  },
  {
   "cell_type": "markdown",
   "metadata": {},
   "source": [
    "# test files written"
   ]
  },
  {
   "cell_type": "code",
   "execution_count": 22,
   "metadata": {},
   "outputs": [],
   "source": [
    "output_file_pt_over = os.path.join(output_dir,output_file_name_pt1_over)\n",
    "output_file_pt_under = os.path.join(output_dir,output_file_name_pt1_under)\n",
    "output_file_pt_over = h5py.File(output_file_pt_over,'r')\n",
    "output_file_pt_under = h5py.File(output_file_pt_under,'r')"
   ]
  },
  {
   "cell_type": "code",
   "execution_count": 23,
   "metadata": {},
   "outputs": [],
   "source": [
    "features_pt_over = output_file_pt_over.get('eventFeatures')\n",
    "features_pt_under = output_file_pt_under.get('eventFeatures')"
   ]
  },
  {
   "cell_type": "code",
   "execution_count": 24,
   "metadata": {},
   "outputs": [
    {
     "name": "stdout",
     "output_type": "stream",
     "text": [
      "7108\n",
      "3400838\n"
     ]
    },
    {
     "data": {
      "text/plain": [
       "(array([   3482.,  154174., 1204273., 1115099.,  559987.,  219767.,\n",
       "          85843.,   35497.,   15392.,    7324.]),\n",
       " array([114.67567444, 203.20736237, 291.73905029, 380.27073822,\n",
       "        468.80242615, 557.33411407, 645.865802  , 734.39748993,\n",
       "        822.92917786, 911.46086578, 999.99255371]),\n",
       " <a list of 10 Patch objects>)"
      ]
     },
     "execution_count": 24,
     "metadata": {},
     "output_type": "execute_result"
    },
    {
     "data": {
      "image/png": "[encoded data removed]",
      "text/plain": [
       "<Figure size 432x288 with 1 Axes>"
      ]
     },
     "metadata": {
      "needs_background": "light"
     },
     "output_type": "display_data"
    },
    {
     "data": {
      "image/png": "[encoded data removed]",
      "text/plain": [
       "<Figure size 432x288 with 1 Axes>"
      ]
     },
     "metadata": {
      "needs_background": "light"
     },
     "output_type": "display_data"
    }
   ],
   "source": [
    "print(jet_feat_pt1_over.shape[0])\n",
    "print(jet_feat_pt1_under.shape[0])\n",
    "plt.hist(jet_feat_pt1_over[:,1])\n",
    "plt.figure()\n",
    "plt.hist(jet_feat_pt1_under[:,1])\n"
   ]
  }
 ],
 "metadata": {
  "kernelspec": {
   "display_name": "Python 3",
   "language": "python",
   "name": "python3"
  },
  "language_info": {
   "codemirror_mode": {
    "name": "ipython",
    "version": 3
   },
   "file_extension": ".py",
   "mimetype": "text/x-python",
   "name": "python",
   "nbconvert_exporter": "python",
   "pygments_lexer": "ipython3",
   "version": "3.6.0"
  }
 },
 "nbformat": 4,
 "nbformat_minor": 2
}
