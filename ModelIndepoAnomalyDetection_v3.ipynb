{
 "cells": [
  {
   "cell_type": "markdown",
   "metadata": {},
   "source": [
    "To be run in CMSSW_10_2_3 with adding:\n",
    "pip install --user joblib scikit-learn==0.20.4"
   ]
  },
  {
   "cell_type": "markdown",
   "metadata": {},
   "source": [
    "Like v2 but with BTD trained in signal region"
   ]
  },
  {
   "cell_type": "code",
   "execution_count": 1,
   "metadata": {
    "ExecuteTime": {
     "end_time": "2019-09-11T02:20:31.516668Z",
     "start_time": "2019-09-11T02:20:31.501972Z"
    }
   },
   "outputs": [],
   "source": [
    "Mjj_selection = 1100.\n",
    "\n",
    "SM_eff = 1e-2\n",
    "\n",
    "def computeDiscriminatingVar(x):\n",
    "    #out = x[:,-3]/x[:,1]+x[:,-2]/x[:,6]\n",
    "    out = x[:,-6]+x[:,-3]\n",
    "    out *= 1e9\n",
    "    return out\n",
    "\n",
    "def computeDiscriminatingVar_str(l1, pt1, l2, pt2):\n",
    "    out = 1e9*(l1/pt1+l2/pt2)\n",
    "    return out\n",
    "\n",
    "# def computeDiscriminatingVar(x):\n",
    "#     out = 100*(x[:,-3]+x[:,-2])\n",
    "#     return out*1e4\n",
    "\n",
    "# def computeDiscriminatingVar_str(l1, l2):\n",
    "#     out = 100*(l1+l2)\n",
    "#     return out*1e4"
   ]
  },
  {
   "cell_type": "markdown",
   "metadata": {},
   "source": [
    "# Imports"
   ]
  },
  {
   "cell_type": "code",
   "execution_count": 2,
   "metadata": {
    "ExecuteTime": {
     "end_time": "2019-09-11T02:20:35.440069Z",
     "start_time": "2019-09-11T02:20:32.171242Z"
    }
   },
   "outputs": [
    {
     "name": "stdout",
     "output_type": "stream",
     "text": [
      "Welcome to JupyROOT 6.12/07\n"
     ]
    }
   ],
   "source": [
    "from __future__ import print_function\n",
    "\n",
    "import h5py, os, sys, glob, datetime, time\n",
    "sys.path.append('../lib')\n",
    "from glob import glob\n",
    "import numpy as np\n",
    "import scipy as sp\n",
    "from scipy.special import erf\n",
    "\n",
    "import matplotlib.pyplot as plt\n",
    "import matplotlib\n",
    "matplotlib.rcParams.update({'font.size': 18})\n",
    "from matplotlib.colors import LogNorm\n",
    "\n",
    "from sklearn.ensemble import GradientBoostingRegressor, GradientBoostingClassifier\n",
    "import joblib\n",
    "import pickle\n",
    "from prettytable import PrettyTable\n",
    "import ROOT as rt\n",
    "rt.PyConfig.IgnoreCommandLineOptions = True\n",
    "rt.gROOT.SetBatch()\n",
    "rt.gErrorIgnoreLevel = rt.kError\n",
    "\n",
    "from histo_utilities import create_TH2D, create_TH1D, create_Canvas, make_effiency_plot, rootTH1_to_np\n",
    "from progressBar import ProgressBar\n",
    "from cebefo_style import cebefo_style\n",
    "\n",
    "cebefo_style()\n",
    "\n",
    "\n",
    "dnd = []"
   ]
  },
  {
   "cell_type": "markdown",
   "metadata": {},
   "source": [
    "# Get the qcd sample for trainig"
   ]
  },
  {
   "cell_type": "code",
   "execution_count": 3,
   "metadata": {
    "ExecuteTime": {
     "end_time": "2019-08-07T23:09:13.047650Z",
     "start_time": "2019-08-07T23:09:11.478682Z"
    }
   },
   "outputs": [
    {
     "name": "stdout",
     "output_type": "stream",
     "text": [
      "Labels:\n",
      "['mJJ', 'j1Pt', 'j1Eta', 'j1Phi', 'j1M', 'j1E', 'j2Pt', 'j2M', 'j2E', 'DeltaEtaJJ', 'DeltaPhiJJ', 'j1TotalLoss', 'j1RecoLoss', 'j1KlLoss', 'j2TotalLoss', 'j2RecoLoss', 'j2KlLoss']\n",
      "[######--------------]  34% - ETA:   31 s   \n",
      "num evts:  372562\n",
      "\n",
      "Luminosity used for training\n",
      "4.3e+01 fb^-1\n"
     ]
    }
   ],
   "source": [
    "#file_dir = '/eos/project/d/dshep/TOPCLASS/DijetAnomaly/AE_Score/'\n",
    "file_dir = '/afs/cern.ch/work/k/kiwoznia/vae_results/qcd_sqrtshatTeV_13TeV_PU40'\n",
    "maxEvts = int(1e6)\n",
    "pb = ProgressBar(maxEvts)\n",
    "\n",
    "data_train = None\n",
    "name_tag = 'qcd_sqrtshatTeV_13TeV_PU40'\n",
    "#flist = glob(file_dir + name_tag + '*.h5')\n",
    "flist = glob(file_dir + '/' + '*result.h5')\n",
    "#print(flist)\n",
    "for i_file, fname in enumerate(flist):\n",
    "    f = h5py.File(fname, 'r')\n",
    "    #print(f.keys())\n",
    "    aux_evts = np.array(f.get('results'))\n",
    "    aux_evts = aux_evts[aux_evts[:,0] > Mjj_selection]\n",
    "    if data_train is None:\n",
    "        print('Labels:')\n",
    "        print(list(f.get('labels')))\n",
    "        pb.show(0)\n",
    "        data_train = aux_evts\n",
    "    else:\n",
    "        data_train = np.append(data_train, aux_evts, axis=0)\n",
    "\n",
    "    pb.show(data_train.shape[0])\n",
    "\n",
    "    if data_train.shape[0] > maxEvts:\n",
    "        break\n",
    "        \n",
    "\n",
    "N_evts = data_train.shape[0]#i_file+1 * 10000 # ???\n",
    "print(\"\\nnum evts: \", N_evts)\n",
    "QCD_xsec = 8.73e-6 #mb\n",
    "QCD_xsec *= 1e9 #fb # ??????\n",
    "print('\\nLuminosity used for training')\n",
    "print('{:.2} fb^-1'.format(N_evts/QCD_xsec))\n",
    "        "
   ]
  },
  {
   "cell_type": "code",
   "execution_count": 17,
   "metadata": {
    "ExecuteTime": {
     "end_time": "2019-08-07T23:09:13.047650Z",
     "start_time": "2019-08-07T23:09:11.478682Z"
    }
   },
   "outputs": [],
   "source": [
    "pickle.dump(data_train, open(file_dir + 'tmp_qcd_sqrtshatTeV_13TeV_PU40.pkl', 'wb'))"
   ]
  },
  {
   "cell_type": "code",
   "execution_count": 18,
   "metadata": {},
   "outputs": [],
   "source": [
    "# data_train = pickle.load(open(file_dir + 'tmp_qcd_sqrtshatTeV_13TeV_PU40_SIDEBAND_MIAD.pkl', 'rb'))"
   ]
  },
  {
   "cell_type": "code",
   "execution_count": 4,
   "metadata": {
    "ExecuteTime": {
     "end_time": "2019-08-07T23:09:13.047650Z",
     "start_time": "2019-08-07T23:09:11.478682Z"
    }
   },
   "outputs": [
    {
     "data": {
      "image/png": "[encoded data removed]",
      "text/plain": [
       "<IPython.core.display.Image object>"
      ]
     },
     "metadata": {},
     "output_type": "display_data"
    }
   ],
   "source": [
    "c = create_Canvas(size=(int(800/1.5),int(600/1.5)))\n",
    "h_Mjj_side = create_TH1D(data_train[:,0], title='', axis_title = ['M_{jj} [GeV]','Events'], \n",
    "                binning=[100, Mjj_selection, 0.8*np.max(data_train[:,0])])\n",
    "\n",
    "h_Mjj_side.Draw()\n",
    "c.SetLogy()\n",
    "c.Draw()"
   ]
  },
  {
   "cell_type": "markdown",
   "metadata": {
    "ExecuteTime": {
     "end_time": "2019-07-25T14:02:14.795675Z",
     "start_time": "2019-07-25T14:02:14.664450Z"
    }
   },
   "source": [
    "### Train the model to predict the cut"
   ]
  },
  {
   "cell_type": "code",
   "execution_count": 5,
   "metadata": {},
   "outputs": [],
   "source": [
    "# Compute weights to make it mass agnostic\n",
    "# hM = h_Mjj_side.Clone('hM')\n",
    "# print(hM.FindBin(10000))\n",
    "# scale = np.sqrt(hM.GetMaximum()*hM.GetMinimum(0))\n",
    "# print(scale)\n",
    "# hM.Scale(1./scale)\n",
    "\n",
    "# weights = np.ones_like(data_train[:,0])\n",
    "# for i, m in enumerate(data_train[:,0]):\n",
    "#     weights[i] = 1./hM.GetBinContent(hM.FindBin(m))\n",
    "#     if i%1000000 == 0:\n",
    "#         print(i)"
   ]
  },
  {
   "cell_type": "code",
   "execution_count": 6,
   "metadata": {
    "ExecuteTime": {
     "end_time": "2019-08-07T23:09:13.420984Z",
     "start_time": "2019-08-07T23:09:13.051732Z"
    }
   },
   "outputs": [
    {
     "name": "stdout",
     "output_type": "stream",
     "text": [
      "      Iter       Train Loss   Remaining Time \n",
      "         1     2889693.4514           27.20s\n",
      "         2     2780114.8687           24.37s\n",
      "         3     2691435.1454           23.14s\n",
      "         4     2616342.4144           22.42s\n",
      "         5     2550829.8572           24.39s\n",
      "         6     2495180.7628           24.09s\n",
      "         7     2446633.2605           23.38s\n",
      "         8     2401560.3817           22.87s\n",
      "         9     2364447.7380           23.41s\n",
      "        10     2330758.9908           23.34s\n",
      "        11     2300660.7115           22.92s\n",
      "        12     2273398.4297           22.56s\n",
      "        13     2249569.4007           22.79s\n",
      "        14     2229138.0185           22.83s\n",
      "        15     2210137.2135           22.56s\n",
      "        16     2193323.3322           22.28s\n",
      "        17     2178625.9558           22.04s\n",
      "        18     2165213.5472           22.09s\n",
      "        19     2152476.9445           22.14s\n",
      "        20     2140762.8687           21.95s\n",
      "        21     2130047.4736           21.73s\n",
      "        22     2120193.2829           21.52s\n",
      "        23     2111414.4528           21.33s\n",
      "        24     2103511.5760           21.15s\n",
      "        25     2096150.2014           20.98s\n",
      "        26     2090002.2093           20.82s\n",
      "        27     2083645.4743           20.68s\n",
      "        28     2078795.0116           20.77s\n",
      "        29     2073776.3010           20.94s\n",
      "        30     2069345.7573           20.83s\n",
      "        31     2065313.1631           20.66s\n",
      "        32     2061876.5611           20.48s\n",
      "        33     2058431.4779           20.30s\n",
      "        34     2055399.9825           20.13s\n",
      "        35     2052292.6190           19.98s\n",
      "        36     2049398.0780           19.83s\n",
      "        37     2046680.9758           19.69s\n",
      "        38     2044376.5121           19.75s\n",
      "        39     2042391.6039           19.65s\n",
      "        40     2040365.3688           19.50s\n",
      "        41     2038831.9472           19.35s\n",
      "        42     2036813.4932           19.24s\n",
      "        43     2035306.3014           19.10s\n",
      "        44     2033881.2093           18.96s\n",
      "        45     2032730.7771           18.83s\n",
      "        46     2031792.7254           18.77s\n",
      "        47     2030842.7275           18.70s\n",
      "        48     2030082.8225           18.60s\n",
      "        49     2029261.7890           18.56s\n",
      "        50     2028449.6982           18.54s\n",
      "        51     2027737.2298           18.41s\n",
      "        52     2026885.0833           18.29s\n",
      "        53     2026177.3886           18.16s\n",
      "        54     2025299.1282           18.03s\n",
      "        55     2024663.7385           17.90s\n",
      "        56     2024151.2318           17.76s\n",
      "        57     2023689.7531           17.63s\n",
      "        58     2023270.6171           17.54s\n",
      "        59     2022755.7516           17.52s\n",
      "        60     2022352.0903           17.41s\n",
      "        61     2021895.6456           17.32s\n",
      "        62     2021523.3937           17.20s\n",
      "        63     2021210.6526           17.08s\n",
      "        64     2020813.7417           16.96s\n",
      "        65     2020432.3830           16.85s\n",
      "        66     2020029.3822           16.73s\n",
      "        67     2019592.2965           16.61s\n",
      "        68     2019251.0167           16.49s\n",
      "        69     2019088.7708           16.37s\n",
      "        70     2018790.6438           16.23s\n",
      "        71     2018580.9902           16.19s\n",
      "        72     2018373.3807           16.11s\n",
      "        73     2018190.2408           15.98s\n",
      "        74     2018021.8021           15.92s\n",
      "        75     2017776.6096           15.85s\n",
      "        76     2017565.1684           15.73s\n",
      "        77     2017420.7158           15.67s\n",
      "        78     2017233.0444           15.58s\n",
      "        79     2017013.3289           15.50s\n",
      "        80     2016887.7243           15.46s\n",
      "        81     2016794.8726           15.37s\n",
      "        82     2016646.7417           15.26s\n",
      "        83     2016507.1697           15.14s\n",
      "        84     2016377.7832           15.01s\n"
     ]
    },
    {
     "data": {
      "text/plain": [
       "['../models/gbr_cut_trained_20191028.joblib']"
      ]
     },
     "execution_count": 6,
     "metadata": {},
     "output_type": "execute_result"
    }
   ],
   "source": [
    "gbr_cut = GradientBoostingRegressor(loss='quantile', alpha=1-SM_eff,\n",
    "                                n_estimators=250, max_depth=3,\n",
    "                                learning_rate=.05, min_samples_leaf=30,\n",
    "                                min_samples_split=30,\n",
    "                                validation_fraction=0.5,\n",
    "                                n_iter_no_change=5,\n",
    "                                tol=1e-5,\n",
    "                                verbose=2)\n",
    "\n",
    "# take 10% of qcd sig for training\n",
    "#ten_percent_idx = int(N_evts*0.1)\n",
    "#qcd_sig_for_quantile_train, qcd_sig_for_goodness_of_fit = np.split( data_train, [ten_percent_idx])\n",
    "\n",
    "x = np.reshape(data_train[:,0], (-1,1))\n",
    "y = computeDiscriminatingVar(data_train)\n",
    "gbr_cut.fit(x, y, sample_weight=None);\n",
    "\n",
    "date = datetime.date.today()\n",
    "date_str = '{}{:02d}{:02d}'.format(date.year, date.month, date.day)\n",
    "joblib.dump(gbr_cut, '../models/gbr_cut_trained_{}.joblib'.format(date_str)) "
   ]
  },
  {
   "cell_type": "code",
   "execution_count": 7,
   "metadata": {
    "ExecuteTime": {
     "end_time": "2019-08-07T23:09:21.195273Z",
     "start_time": "2019-08-07T23:09:19.992583Z"
    }
   },
   "outputs": [
    {
     "data": {
      "image/png": "[encoded data removed]",
      "text/plain": [
       "<matplotlib.figure.Figure at 0x7fc4d3222110>"
      ]
     },
     "metadata": {},
     "output_type": "display_data"
    }
   ],
   "source": [
    "plt.figure(figsize=(8, 8))\n",
    "x_min = Mjj_selection*0.8\n",
    "x_max = np.percentile(x, 99.9)\n",
    "plt.hist2d(x[:,0], y,\n",
    "           range=((x_min , x_max), (np.min(y), np.percentile(y, 1e2*(1-1e-4)))), \n",
    "           norm=LogNorm(), bins=100,\n",
    "           label='Side band data'\n",
    "          )\n",
    "\n",
    "xs = np.arange(Mjj_selection, x_max, 0.001*(x_max-Mjj_selection))\n",
    "plt.plot(xs, gbr_cut.predict(np.reshape(xs, (-1,1))), '-', color='m', lw=3, label='GBR selection')\n",
    "\n",
    "plt.ylabel('$L_1 + L_2$ [GeV^-1]')\n",
    "plt.xlabel('$M_{jj}$ [GeV]')\n",
    "plt.colorbar()\n",
    "plt.legend(loc='best')\n",
    "plt.draw()"
   ]
  },
  {
   "cell_type": "code",
   "execution_count": 8,
   "metadata": {
    "ExecuteTime": {
     "end_time": "2019-08-07T23:09:26.371593Z",
     "start_time": "2019-08-07T23:09:26.351548Z"
    },
    "code_folding": []
   },
   "outputs": [],
   "source": [
    "def getSelection(x_Mjj, x_loss):\n",
    "    cut = gbr_cut.predict(np.reshape(x_Mjj, (-1,1)))\n",
    "    return x_loss > cut"
   ]
  },
  {
   "cell_type": "code",
   "execution_count": 9,
   "metadata": {
    "ExecuteTime": {
     "end_time": "2019-08-07T23:09:26.814635Z",
     "start_time": "2019-08-07T23:09:26.791643Z"
    },
    "code_folding": [
     0
    ]
   },
   "outputs": [],
   "source": [
    "def plotMassSpectrum(mJJ_pass, mJJ_rej, title=''):\n",
    "    h_a = create_TH1D(mJJ_pass, \n",
    "                      name='h_acc', title='Accepted',\n",
    "                      binning=binning,\n",
    "                      opt='overflow'\n",
    "                     )\n",
    "    h_a.SetLineColor(2)\n",
    "    h_a.SetStats(0)\n",
    "    h_a.Sumw2()\n",
    "    h_r = create_TH1D(mJJ_rej, \n",
    "                      name='h_rej', title='Rejected',\n",
    "                      axis_title=['M_{jj} [GeV]', 'Events'],\n",
    "                      binning=binning,\n",
    "                      opt='overflow'\n",
    "                     )\n",
    "    h_r.GetYaxis().SetRangeUser(0.5, 1.2*h_r.GetMaximum())\n",
    "    h_r.SetStats(0)\n",
    "    h_r.Sumw2()\n",
    "\n",
    "    c = make_effiency_plot([h_r, h_a], ratio_bounds=[1e-4, 0.2], draw_opt = 'E', title=title)\n",
    "    c.pad1.SetLogy()\n",
    "    c.pad2.SetLogy()\n",
    "\n",
    "    c.pad2.cd()\n",
    "    c.ln = rt.TLine(h_r.GetXaxis().GetXmin(), SM_eff, h_r.GetXaxis().GetXmax(), SM_eff)\n",
    "    c.ln.SetLineWidth(2)\n",
    "    c.ln.SetLineStyle(7)\n",
    "    c.ln.SetLineColor(8)\n",
    "    c.ln.DrawLine(h_r.GetXaxis().GetXmin(), SM_eff, h_r.GetXaxis().GetXmax(), SM_eff)\n",
    "\n",
    "    c.Draw()\n",
    "    return c"
   ]
  },
  {
   "cell_type": "code",
   "execution_count": 10,
   "metadata": {
    "ExecuteTime": {
     "end_time": "2019-08-07T23:09:27.433110Z",
     "start_time": "2019-08-07T23:09:27.222240Z"
    }
   },
   "outputs": [
    {
     "data": {
      "image/png": "[encoded data removed]",
      "text/plain": [
       "<IPython.core.display.Image object>"
      ]
     },
     "metadata": {},
     "output_type": "display_data"
    }
   ],
   "source": [
    "x = x.flatten()\n",
    "binning=[30, Mjj_selection, np.percentile(x, 99.9)]\n",
    "\n",
    "sel = getSelection(x, y)\n",
    "\n",
    "c = plotMassSpectrum(x[sel], x[np.logical_not(sel)], 'QCD quantile training dataset')\n",
    "h_a = c.h_list[1]\n",
    "h_r = c.h_list[0]"
   ]
  },
  {
   "cell_type": "markdown",
   "metadata": {
    "ExecuteTime": {
     "end_time": "2019-07-29T10:05:16.951453Z",
     "start_time": "2019-07-29T10:05:16.934409Z"
    }
   },
   "source": [
    "# Define and test Hypotesis test"
   ]
  },
  {
   "cell_type": "code",
   "execution_count": 11,
   "metadata": {
    "ExecuteTime": {
     "end_time": "2019-08-07T23:09:31.570671Z",
     "start_time": "2019-08-07T23:09:31.523994Z"
    }
   },
   "outputs": [],
   "source": [
    "def HypotesisTets(h_a_bin_content, h_r_bin_content, eff, N_asymov = 10000, max_N_asymov = 1e7, show_hist=True):\n",
    "    nu = eff*h_r_bin_content/(1-eff)\n",
    "\n",
    "    probs_obs = sp.stats.poisson.pmf(h_a_bin_content.astype(np.int), nu)\n",
    "    probs_obs = np.where(probs_obs < 1e-10, np.full_like(probs_obs, 1e-10), probs_obs)\n",
    "    s_obs = np.sum(-np.log(probs_obs), axis=-1)\n",
    "    print('S obs:', s_obs)\n",
    "\n",
    "    N_worse = 0\n",
    "    N_tot = 0\n",
    "    loops = 0\n",
    "    while N_worse < 25 and N_tot < max_N_asymov:\n",
    "        loops += 1\n",
    "        if loops > 1 and loops%10 == 0:\n",
    "            print(N_tot, N_worse)\n",
    "        if loops == 10:\n",
    "            print('Increasing by a factor 5 the number of asymov per loop')\n",
    "            N_asymov *=5\n",
    "        o_asymov = np.random.poisson(nu, (N_asymov, nu.shape[0]))\n",
    "        probs = sp.stats.poisson.pmf(o_asymov, nu)\n",
    "        probs = np.where(probs < 1e-10, np.full_like(probs, 1e-10), probs)\n",
    "        nll = -np.log(probs)\n",
    "        s_asymov = np.sum(nll, axis=-1)\n",
    "\n",
    "        N_worse += np.sum(s_asymov > s_obs)\n",
    "        N_tot += N_asymov\n",
    "\n",
    "        if max_N_asymov/N_tot < 25 and (N_worse * (max_N_asymov/N_tot) < 25):\n",
    "            print('Will never have enough stat - giving up.')\n",
    "            p_val = max(1, N_worse)/float(N_tot)\n",
    "            return p_val\n",
    "\n",
    "    print('Test stat reached after {} loops'.format(loops))\n",
    "\n",
    "    p_val = max(1, N_worse)/float(N_tot)\n",
    "    \n",
    "    if show_hist:\n",
    "        plt.figure()\n",
    "        binContent, _, _ = plt.hist(s_asymov, label='Distribution assuming eff={:.1f}%'.format(100*eff))\n",
    "        plt.plot([s_obs, s_obs], [0,np.max(binContent)], label='Observed')\n",
    "        plt.legend(loc='best')\n",
    "        plt.xlabel('Test statistic')\n",
    "        plt.ylabel('Entries')\n",
    "\n",
    "    return p_val"
   ]
  },
  {
   "cell_type": "code",
   "execution_count": 12,
   "metadata": {
    "ExecuteTime": {
     "end_time": "2019-08-07T23:09:32.564458Z",
     "start_time": "2019-08-07T23:09:32.444973Z"
    }
   },
   "outputs": [
    {
     "name": "stdout",
     "output_type": "stream",
     "text": [
      "S obs: 98.8526652993866\n",
      "Test stat reached after 1 loops\n"
     ]
    },
    {
     "data": {
      "text/plain": [
       "0.003"
      ]
     },
     "execution_count": 12,
     "metadata": {},
     "output_type": "execute_result"
    },
    {
     "data": {
      "image/png": "[encoded data removed]",
      "text/plain": [
       "<matplotlib.figure.Figure at 0x7fc5012ce090>"
      ]
     },
     "metadata": {},
     "output_type": "display_data"
    }
   ],
   "source": [
    "h_a_bin_content, _ = rootTH1_to_np(h_a)\n",
    "h_r_bin_content, _ = rootTH1_to_np(h_r)\n",
    "HypotesisTets(h_a_bin_content, h_r_bin_content, SM_eff, N_asymov=10000)"
   ]
  },
  {
   "cell_type": "markdown",
   "metadata": {},
   "source": [
    "# Analyze signal region"
   ]
  },
  {
   "cell_type": "code",
   "execution_count": 37,
   "metadata": {
    "ExecuteTime": {
     "end_time": "2019-08-01T11:05:58.113458Z",
     "start_time": "2019-08-01T11:05:58.084800Z"
    }
   },
   "outputs": [],
   "source": [
    "sample_loc = {'qcdSig':'/afs/cern.ch/work/k/kiwoznia/vae_results/qcd_sqrtshatTeV_13TeV_PU40_ext_all', # write all condor results to same dir!\n",
    "              'GtoWW1':'RSGraviton_WW_NARROW_13TeV_PU40_1p5TeV_img_stdnorm_bin',\n",
    "              'GtoWW2':'RSGraviton_WW_NARROW_13TeV_PU40_2p5TeV_img_stdnor',\n",
    "              'GtoWW3':'RSGraviton_WW_NARROW_13TeV_PU40_3p5TeV_img_stdnorm_bin',\n",
    "              'GtoWW4':'RSGraviton_WW_NARROW_13TeV_PU40_4p5TeV_img_stdno',\n",
    "              'AtoHZ':'AtoHZ_to_ZZZ_13TeV_PU40_img_stdnor',\n",
    "              'GtoTTBroad':'RSGraviton_tt_BROAD_13TeV_PU40_img_stdnor',\n",
    "              'GtoTTNarr':'RSGraviton_tt_NARROW_13TeV_PU40_img_stdnor'\n",
    "             }\n",
    "\n",
    "sample_label = {'qcdSig':r'QCD signal',\n",
    "                'GtoWW1':r'$G(1.5 TeV)\\to WW$',\n",
    "                'GtoWW2':r'$G(2.5 TeV)\\to WW$',\n",
    "                'GtoWW3':r'$G(3.5 TeV)\\to WW$',\n",
    "                'GtoWW4':r'$G(4.5 TeV)\\to WW$',\n",
    "                'AtoHZ':r'A \\to HZ \\to ZZZ',\n",
    "                'GtoTTBroad':r'G \\to TT broad',\n",
    "                'GtoTTNarr':r'G \\to TT narrow'\n",
    "               }\n",
    "\n",
    "sample_label_ROOT = {'qcdSig':'QCD signal',\n",
    "                'GtoWW1':'G(1.5 TeV) to WW$',\n",
    "                'GtoWW2':'$G(2.5 TeV) to WW$',\n",
    "                'GtoWW3':'$G(3.5 TeV) to WW$',\n",
    "                'GtoWW4':'$G(4.5 TeV) to WW$',\n",
    "                'AtoHZ':'A to HZ to ZZZ',\n",
    "                'GtoTTBroad':'G to TT broad',\n",
    "                'GtoTTNarr':'G to TT narrow'\n",
    "               }\n",
    "\n",
    "SM_samples = ['qcdSig']\n",
    "BSM_samples = ['GtoWW1', 'GtoWW2', 'GtoWW3', 'GtoWW4','AtoHZ','GtoTTBroad', 'GtoTTNarr']\n",
    "\n",
    "sample_nGenEvts = {'qcdSig': 1992*10000, # TODO: adapt numbers!\n",
    "                   'GtoWW1': 90*10000,\n",
    "                   'GtoWW2': 90*10000,\n",
    "                   'GtoWW3': 92*10000,\n",
    "                   'GtoWW4': 92*10000,\n",
    "                   'AtoHZ': 92*10000,\n",
    "                   'GtoTTBroad': 92*10000,\n",
    "                   'GtoTTNarr': 92*10000\n",
    "                  }\n",
    "\n",
    "sample_xsec = {'qcdSide': 8734.0 #pb\n",
    "              }"
   ]
  },
  {
   "cell_type": "code",
   "execution_count": 38,
   "metadata": {},
   "outputs": [
    {
     "name": "stdout",
     "output_type": "stream",
     "text": [
      "Lumi: 2280.7 pb^-1\n"
     ]
    }
   ],
   "source": [
    "lumi_generated = sample_nGenEvts['qcdSide']/sample_xsec['qcdSide']\n",
    "print('Lumi: {:.1f} pb^-1'.format(lumi_generated))"
   ]
  },
  {
   "cell_type": "markdown",
   "metadata": {},
   "source": [
    "### Get the data"
   ]
  },
  {
   "cell_type": "code",
   "execution_count": 39,
   "metadata": {
    "ExecuteTime": {
     "end_time": "2019-08-01T11:06:00.877455Z",
     "start_time": "2019-08-01T11:05:58.119894Z"
    },
    "code_folding": []
   },
   "outputs": [
    {
     "name": "stdout",
     "output_type": "stream",
     "text": [
      "GtoTTBroad\n",
      "[#]  100% - Tot. time: 0.0 s\n",
      "64822\n",
      "GtoTTNarr\n",
      "[#]  100% - Tot. time: 0.0 s\n",
      "63572\n",
      "GtoWW4\n",
      "[#]  100% - Tot. time: 0.0 s\n",
      "98833\n",
      "qcdSide\n",
      "[#]  100% - Tot. time: 0.0 s\n",
      "422000\n",
      "AtoHZ\n",
      "[#]  100% - Tot. time: 0.0 s\n",
      "63128\n",
      "GtoWW1\n",
      "[#]  100% - Tot. time: 0.0 s\n",
      "69950\n",
      "GtoWW2\n",
      "[#]  100% - Tot. time: 0.0 s\n",
      "93806\n",
      "GtoWW3\n",
      "[#]  100% - Tot. time: 0.0 s\n",
      "97726\n",
      "+------------+----------+--------------+---------------+-------------+\n",
      "|   Sample   | Trg evts | Eff. trg [%] | VAE sel. evts | Eff VAE [%] |\n",
      "+------------+----------+--------------+---------------+-------------+\n",
      "| GtoTTBroad |  64822   |     7.0      |     34125     |    52.64    |\n",
      "| GtoTTNarr  |  63572   |     6.9      |     31926     |    50.22    |\n",
      "|   GtoWW4   |  98833   |     10.7     |     29372     |    29.72    |\n",
      "|  qcdSide   |  422000  |     2.1      |      4240     |     1.00    |\n",
      "|   AtoHZ    |  63128   |     6.9      |     28450     |    45.07    |\n",
      "|   GtoWW1   |  69950   |     7.8      |     13874     |    19.83    |\n",
      "|   GtoWW2   |  93806   |     10.4     |     27527     |    29.34    |\n",
      "|   GtoWW3   |  97726   |     10.6     |     33294     |    34.07    |\n",
      "+------------+----------+--------------+---------------+-------------+\n"
     ]
    }
   ],
   "source": [
    "data = {}\n",
    "sample_eff = {}\n",
    "table = PrettyTable()\n",
    "table.field_names = ['Sample', 'Trg evts', 'Eff. trg [%]', 'VAE sel. evts', 'Eff VAE [%]']\n",
    "\n",
    "for n, name_tag in sample_loc.iteritems():\n",
    "    print(n)\n",
    "    if True:#not 'GtoWW' == n[:-1]:\n",
    "        filename = name_tag #.replace('_EXT3', '')\n",
    "        flist = glob(file_dir + '/' + filename + '_results.h5')\n",
    "        x = None\n",
    "        pb = ProgressBar(len(flist))\n",
    "        for i, fname in enumerate(flist):\n",
    "            pb.show(i)\n",
    "            f = h5py.File(fname, 'r')\n",
    "            aux_evts = np.array(f.get('results'))\n",
    "            aux_evts = aux_evts[aux_evts[:,0] > Mjj_selection]\n",
    "            if x is None:\n",
    "                x = aux_evts\n",
    "            else:\n",
    "                x = np.append(x, aux_evts, axis=0)\n",
    "\n",
    "        # apply the dijet mass cut\n",
    "        dVar = computeDiscriminatingVar(x)\n",
    "        sel = getSelection(x[:,0], dVar)\n",
    "        x = np.column_stack((x, dVar, sel))\n",
    "        print(x.shape[0])\n",
    "        sample_eff[n] = float(x.shape[0])/sample_nGenEvts[n]\n",
    "\n",
    "        dt = [(str(s), '<f4') for s in list(f.get(\"labels\")) + ['dVar']]\n",
    "        dt += [('sel', '?')]\n",
    "        data[n] = np.array(list(zip(*x.T)), dtype=dt)\n",
    "    \n",
    "    eff = '{:.2f}'.format(100*np.sum(data[n]['sel'])/float(data[n]['sel'].shape[0]))\n",
    "    table.add_row([n, data[n]['sel'].shape[0], '{:.1f}'.format(100*sample_eff[n]), np.sum(data[n]['sel']), eff])\n",
    "    \n",
    "print(table)"
   ]
  },
  {
   "cell_type": "code",
   "execution_count": 40,
   "metadata": {},
   "outputs": [
    {
     "data": {
      "image/png": "[encoded data removed]",
      "text/plain": [
       "<matplotlib.figure.Figure at 0x7f428658ccd0>"
      ]
     },
     "metadata": {},
     "output_type": "display_data"
    }
   ],
   "source": [
    "x = np.reshape(data['qcdSide']['mJJ'], (-1,1))\n",
    "y = computeDiscriminatingVar_str(data['qcdSide']['j1TotalLoss'], data['qcdSide']['j1Pt'], data['qcdSide']['j2TotalLoss'], data['qcdSide']['j2Pt'])\n",
    "\n",
    "plt.figure(figsize=(8, 8))\n",
    "x_min = Mjj_selection*0.8\n",
    "x_max = np.percentile(x, 99.9)\n",
    "plt.hist2d(x[:,0], y,\n",
    "           range=((x_min , x_max), (np.min(y), np.percentile(y, 1e2*(1-1e-4)))), \n",
    "           norm=LogNorm(), bins=100,\n",
    "           label='Side band data'\n",
    "          )\n",
    "\n",
    "xs = np.arange(Mjj_selection, x_max, 0.001*(x_max-Mjj_selection))\n",
    "plt.plot(xs, gbr_cut.predict(np.reshape(xs, (-1,1))), '-', color='m', lw=3, label='GBR selection')\n",
    "\n",
    "plt.ylabel('$L_1/P^1_T + L_2/P^2_T$ [GeV^-1]')\n",
    "plt.xlabel('$M_{jj}$ [GeV]')\n",
    "plt.colorbar()\n",
    "plt.legend(loc='best')\n",
    "plt.draw()"
   ]
  },
  {
   "cell_type": "markdown",
   "metadata": {},
   "source": [
    "### Define utilitities"
   ]
  },
  {
   "cell_type": "code",
   "execution_count": 41,
   "metadata": {
    "ExecuteTime": {
     "end_time": "2019-08-01T11:06:00.921841Z",
     "start_time": "2019-08-01T11:06:00.883604Z"
    },
    "code_folding": []
   },
   "outputs": [],
   "source": [
    "def plotMassSpectrum_wSig(h_r, h_a, h_a_sig, name_BSM, lumi_text, p_val):\n",
    "    h_r.GetYaxis().SetRangeUser(0.5, 1.2*h_r.GetMaximum())\n",
    "    h_r.SetStats(0)\n",
    "    h_r.Sumw2()\n",
    "    h_r.SetLineWidth(2)\n",
    "    \n",
    "    h_a.SetLineColor(2)\n",
    "    h_a.SetStats(0)\n",
    "    h_a.Sumw2()\n",
    "    h_a.SetLineWidth(2)\n",
    "    \n",
    "    h_a_sig.SetFillStyle(3001)\n",
    "    h_a_sig.SetFillColor(8)\n",
    "    h_a_sig.SetLineWidth(0)\n",
    "\n",
    "    c = make_effiency_plot([h_r, h_a], ratio_bounds=[1e-3, None], draw_opt = 'E')\n",
    "    c.pad1.SetLogy()\n",
    "    c.pad1.cd()\n",
    "    h_a_sig.Draw('SAME')\n",
    "    c.leg.AddEntry(h_a_sig, 'Acc. '+sample_label_ROOT[name_BSM], 'f')\n",
    "    \n",
    "    latex = rt.TLatex()\n",
    "    latex.SetNDC()\n",
    "    latex.SetTextSize(0.04)\n",
    "    latex.SetTextAlign(31)\n",
    "    t = c.pad1.GetTopMargin()\n",
    "    r = c.pad1.GetRightMargin()\n",
    "    latex.DrawLatex(1-r, 1-0.85*t, lumi_text)\n",
    "\n",
    "    c.pad2.SetLogy()\n",
    "    c.pad2.cd()\n",
    "    c.ln = rt.TLine(h_r.GetXaxis().GetXmin(), SM_eff, h_r.GetXaxis().GetXmax(), SM_eff)\n",
    "    c.ln.SetLineWidth(2)\n",
    "    c.ln.SetLineStyle(7)\n",
    "    c.ln.SetLineColor(6)\n",
    "    c.ln.DrawLine(h_r.GetXaxis().GetXmin(), SM_eff, h_r.GetXaxis().GetXmax(), SM_eff)\n",
    "    \n",
    "    latex.SetTextSize(0.1)\n",
    "    latex.SetTextAlign(13)\n",
    "    l = c.pad2.GetLeftMargin()\n",
    "    t = c.pad2.GetTopMargin()\n",
    "    latex.DrawLatex(l*1.1, 1-2*t, 'p-value: {:.1f} %'.format(100*p_val))\n",
    "\n",
    "    c.Draw()\n",
    "    return c"
   ]
  },
  {
   "cell_type": "markdown",
   "metadata": {
    "ExecuteTime": {
     "end_time": "2019-07-26T13:30:40.258958Z",
     "start_time": "2019-07-26T13:30:40.240906Z"
    }
   },
   "source": [
    "## Find the p-value as a function of xsec"
   ]
  },
  {
   "cell_type": "code",
   "execution_count": 42,
   "metadata": {
    "ExecuteTime": {
     "end_time": "2019-08-01T11:06:00.935480Z",
     "start_time": "2019-08-01T11:06:00.926854Z"
    }
   },
   "outputs": [],
   "source": [
    "lumi = 2000 #pb^-1\n",
    "\n",
    "N_asymov = 10000\n",
    "N_exp_per_xsec = 5"
   ]
  },
  {
   "cell_type": "code",
   "execution_count": 43,
   "metadata": {
    "ExecuteTime": {
     "end_time": "2019-08-01T11:06:00.956627Z",
     "start_time": "2019-08-01T11:06:00.939665Z"
    }
   },
   "outputs": [],
   "source": [
    "dic_p_val = {}\n",
    "rt.gROOT.SetBatch(True)"
   ]
  },
  {
   "cell_type": "code",
   "execution_count": 44,
   "metadata": {
    "ExecuteTime": {
     "end_time": "2019-08-01T11:46:23.351576Z",
     "start_time": "2019-08-01T11:06:00.962212Z"
    },
    "code_folding": [],
    "scrolled": false
   },
   "outputs": [
    {
     "name": "stdout",
     "output_type": "stream",
     "text": [
      "\n",
      "\n",
      "GtoWW1\n",
      "xsec BSM 1.0e-05 pb\n",
      "Experiment: 0\n",
      "S obs: 119.24512694077521\n",
      "90000 0\n",
      "Increasing by a factor 5 the number of asymov per loop\n",
      "Will never have enough stat - giving up.\n",
      "Experiment: 1\n",
      "S obs: 111.36990799857628\n",
      "90000 6\n",
      "Increasing by a factor 5 the number of asymov per loop\n",
      "Test stat reached after 19 loops\n",
      "Experiment: 2\n",
      "S obs: 111.10110533105717\n",
      "90000 7\n",
      "Increasing by a factor 5 the number of asymov per loop\n",
      "Test stat reached after 12 loops\n",
      "Experiment: 3\n",
      "S obs: 106.88377299440461\n",
      "Test stat reached after 2 loops\n",
      "Experiment: 4\n",
      "S obs: 110.27848796159321\n",
      "90000 12\n",
      "Increasing by a factor 5 the number of asymov per loop\n",
      "Test stat reached after 11 loops\n",
      "xsec BSM 1.0e-04 pb\n",
      "Experiment: 0\n",
      "S obs: 96.01261280145515\n",
      "Test stat reached after 1 loops\n",
      "Experiment: 1\n",
      "S obs: 102.32059396273341\n",
      "Test stat reached after 1 loops\n",
      "Experiment: 2\n",
      "S obs: 115.08458190539929\n",
      "90000 1\n",
      "Increasing by a factor 5 the number of asymov per loop\n",
      "Will never have enough stat - giving up.\n",
      "Experiment: 3\n",
      "S obs: 103.39188757766756\n",
      "Test stat reached after 1 loops\n",
      "Experiment: 4\n",
      "S obs: 95.4309271676199\n",
      "Test stat reached after 1 loops\n",
      "\n",
      "\n",
      "GtoWW2\n",
      "xsec BSM 1.0e-05 pb\n",
      "Experiment: 0\n",
      "S obs: 102.44871210656501\n",
      "Test stat reached after 1 loops\n",
      "Experiment: 1\n",
      "S obs: 94.87642628616483\n",
      "Test stat reached after 1 loops\n",
      "Experiment: 2\n",
      "S obs: 111.2854928909593\n",
      "90000 8\n",
      "Increasing by a factor 5 the number of asymov per loop\n",
      "Test stat reached after 15 loops\n",
      "Experiment: 3\n",
      "S obs: 104.8483307249313\n",
      "Test stat reached after 1 loops\n",
      "Experiment: 4\n",
      "S obs: 104.86869266761484\n",
      "Test stat reached after 1 loops\n",
      "xsec BSM 1.0e-04 pb\n",
      "Experiment: 0\n",
      "S obs: 103.915498136077\n",
      "Test stat reached after 1 loops\n",
      "Experiment: 1\n",
      "S obs: 102.88395801229315\n",
      "Test stat reached after 1 loops\n",
      "Experiment: 2\n",
      "S obs: 99.9809288661715\n",
      "Test stat reached after 1 loops\n",
      "Experiment: 3\n",
      "S obs: 108.6831736601456\n",
      "90000 19\n",
      "Increasing by a factor 5 the number of asymov per loop\n",
      "Test stat reached after 10 loops\n",
      "Experiment: 4\n",
      "S obs: 108.41916514468849\n",
      "Test stat reached after 8 loops\n",
      "\n",
      "\n",
      "GtoWW3\n",
      "xsec BSM 1.0e-05 pb\n",
      "Experiment: 0\n",
      "S obs: 105.38879464761331\n",
      "Test stat reached after 2 loops\n",
      "Experiment: 1\n",
      "S obs: 96.19737496200393\n",
      "Test stat reached after 1 loops\n",
      "Experiment: 2\n",
      "S obs: 105.20298711783207\n",
      "Test stat reached after 2 loops\n",
      "Experiment: 3\n",
      "S obs: 99.27516721124692\n",
      "Test stat reached after 1 loops\n",
      "Experiment: 4\n",
      "S obs: 102.93054076851386\n",
      "Test stat reached after 1 loops\n",
      "xsec BSM 1.0e-04 pb\n",
      "Experiment: 0\n",
      "S obs: 112.83863790925645\n",
      "90000 5\n",
      "Increasing by a factor 5 the number of asymov per loop\n",
      "590000 17\n",
      "Test stat reached after 26 loops\n",
      "Experiment: 1\n",
      "S obs: 116.98254755801581\n",
      "90000 0\n",
      "Increasing by a factor 5 the number of asymov per loop\n",
      "Will never have enough stat - giving up.\n",
      "Experiment: 2\n",
      "S obs: 119.48645984794507\n",
      "90000 0\n",
      "Increasing by a factor 5 the number of asymov per loop\n",
      "Will never have enough stat - giving up.\n",
      "Experiment: 3\n",
      "S obs: 109.38621761646561\n",
      "90000 19\n",
      "Increasing by a factor 5 the number of asymov per loop\n",
      "Test stat reached after 10 loops\n",
      "Experiment: 4\n",
      "S obs: 107.95248998873228\n",
      "Test stat reached after 5 loops\n",
      "\n",
      "\n",
      "GtoWW4\n",
      "xsec BSM 1.0e-05 pb\n",
      "Experiment: 0\n",
      "S obs: 111.17432809970387\n",
      "90000 6\n",
      "Increasing by a factor 5 the number of asymov per loop\n",
      "Test stat reached after 14 loops\n",
      "Experiment: 1\n",
      "S obs: 116.63769296820601\n",
      "90000 1\n",
      "Increasing by a factor 5 the number of asymov per loop\n",
      "Will never have enough stat - giving up.\n",
      "Experiment: 2\n",
      "S obs: 109.10519076746402\n",
      "Test stat reached after 9 loops\n",
      "Experiment: 3\n",
      "S obs: 120.33834045189948\n",
      "90000 0\n",
      "Increasing by a factor 5 the number of asymov per loop\n",
      "Will never have enough stat - giving up.\n",
      "Experiment: 4\n",
      "S obs: 114.26686537261031\n",
      "90000 0\n",
      "Increasing by a factor 5 the number of asymov per loop\n",
      "590000 4\n",
      "1090000 10\n",
      "1590000 13\n",
      "2090000 19\n",
      "2590000 24\n",
      "Test stat reached after 60 loops\n",
      "xsec BSM 1.0e-04 pb\n",
      "Experiment: 0\n",
      "S obs: 115.95207567479606\n",
      "90000 1\n",
      "Increasing by a factor 5 the number of asymov per loop\n",
      "590000 3\n",
      "1090000 5\n",
      "1590000 6\n",
      "2090000 9\n",
      "2590000 9\n",
      "3090000 10\n",
      "3590000 10\n",
      "Will never have enough stat - giving up.\n",
      "Experiment: 1\n",
      "S obs: 103.58075170535429\n",
      "Test stat reached after 1 loops\n",
      "Experiment: 2\n",
      "S obs: 118.60495758438907\n",
      "90000 0\n",
      "Increasing by a factor 5 the number of asymov per loop\n",
      "Will never have enough stat - giving up.\n",
      "Experiment: 3\n",
      "S obs: 95.46140045708628\n",
      "Test stat reached after 1 loops\n",
      "Experiment: 4\n",
      "S obs: 96.70637525864755\n",
      "Test stat reached after 1 loops\n",
      "\n",
      "\n",
      "AtoHZ\n",
      "xsec BSM 1.0e-05 pb\n",
      "Experiment: 0\n",
      "S obs: 89.0400913519016\n",
      "Test stat reached after 1 loops\n",
      "Experiment: 1\n",
      "S obs: 118.80053340609406\n",
      "90000 0\n",
      "Increasing by a factor 5 the number of asymov per loop\n",
      "Will never have enough stat - giving up.\n",
      "Experiment: 2\n",
      "S obs: 103.1893915631161\n",
      "Test stat reached after 1 loops\n",
      "Experiment: 3\n",
      "S obs: 99.17108462453974\n",
      "Test stat reached after 1 loops\n",
      "Experiment: 4\n",
      "S obs: 110.270912679908\n",
      "90000 13\n",
      "Increasing by a factor 5 the number of asymov per loop\n",
      "Test stat reached after 12 loops\n",
      "xsec BSM 1.0e-04 pb\n",
      "Experiment: 0\n",
      "S obs: 109.27593794976977\n",
      "90000 18\n",
      "Increasing by a factor 5 the number of asymov per loop\n",
      "Test stat reached after 10 loops\n",
      "Experiment: 1\n",
      "S obs: 105.31694313031097\n",
      "Test stat reached after 1 loops\n",
      "Experiment: 2\n",
      "S obs: 100.73155624148508\n",
      "Test stat reached after 1 loops\n",
      "Experiment: 3\n",
      "S obs: 102.02451615620257\n",
      "Test stat reached after 1 loops\n",
      "Experiment: 4\n",
      "S obs: 96.76300063390362\n",
      "Test stat reached after 1 loops\n",
      "\n",
      "\n",
      "GtoTTBroad\n",
      "xsec BSM 1.0e-05 pb\n",
      "Experiment: 0\n",
      "S obs: 113.40819055474932\n",
      "90000 1\n",
      "Increasing by a factor 5 the number of asymov per loop\n",
      "590000 6\n",
      "1090000 15\n",
      "1590000 20\n",
      "Test stat reached after 46 loops\n",
      "Experiment: 1\n",
      "S obs: 97.58405861321394\n",
      "Test stat reached after 1 loops\n",
      "Experiment: 2\n",
      "S obs: 100.57512783134345\n",
      "Test stat reached after 1 loops\n",
      "Experiment: 3\n",
      "S obs: 105.17946149518924\n",
      "Test stat reached after 1 loops\n",
      "Experiment: 4\n",
      "S obs: 108.89360441426835\n",
      "Test stat reached after 6 loops\n",
      "xsec BSM 1.0e-04 pb\n",
      "Experiment: 0\n",
      "S obs: 91.09831087053037\n",
      "Test stat reached after 1 loops\n",
      "Experiment: 1\n",
      "S obs: 101.22034025796557\n",
      "Test stat reached after 1 loops\n",
      "Experiment: 2\n",
      "S obs: 112.76739381726314\n",
      "90000 5\n",
      "Increasing by a factor 5 the number of asymov per loop\n",
      "Test stat reached after 19 loops\n",
      "Experiment: 3\n",
      "S obs: 116.41701236613275\n",
      "90000 0\n",
      "Increasing by a factor 5 the number of asymov per loop\n",
      "590000 4\n",
      "1090000 4\n",
      "1590000 7\n",
      "2090000 8\n",
      "2590000 11\n",
      "3090000 13\n",
      "3590000 13\n",
      "4090000 16\n",
      "4590000 18\n",
      "5090000 18\n",
      "5590000 18\n",
      "6090000 18\n",
      "6590000 20\n",
      "7090000 20\n",
      "7590000 20\n",
      "8090000 22\n",
      "8590000 22\n",
      "9090000 23\n",
      "Will never have enough stat - giving up.\n",
      "Experiment: 4\n",
      "S obs: 111.9923799868588\n",
      "90000 6\n",
      "Increasing by a factor 5 the number of asymov per loop\n",
      "Test stat reached after 17 loops\n",
      "\n",
      "\n",
      "GtoTTNarr\n",
      "xsec BSM 1.0e-05 pb\n",
      "Experiment: 0\n",
      "S obs: 112.81326657652083\n",
      "90000 2\n",
      "Increasing by a factor 5 the number of asymov per loop\n",
      "590000 19\n",
      "Test stat reached after 26 loops\n",
      "Experiment: 1\n",
      "S obs: 117.45507829716833\n",
      "90000 0\n",
      "Increasing by a factor 5 the number of asymov per loop\n",
      "Will never have enough stat - giving up.\n",
      "Experiment: 2\n",
      "S obs: 104.18987731226592\n",
      "Test stat reached after 1 loops\n",
      "Experiment: 3\n",
      "S obs: 101.68154791955496\n",
      "Test stat reached after 1 loops\n",
      "Experiment: 4\n",
      "S obs: 105.7788744872484\n",
      "Test stat reached after 2 loops\n",
      "xsec BSM 1.0e-04 pb\n",
      "Experiment: 0\n",
      "S obs: 108.40814742606666\n",
      "Test stat reached after 6 loops\n",
      "Experiment: 1\n",
      "S obs: 113.33719707824115\n",
      "90000 1\n",
      "Increasing by a factor 5 the number of asymov per loop\n",
      "590000 12\n",
      "1090000 20\n",
      "Test stat reached after 35 loops\n",
      "Experiment: 2\n",
      "S obs: 105.4362886328586\n",
      "Test stat reached after 2 loops\n",
      "Experiment: 3\n",
      "S obs: 107.85215991528376\n",
      "Test stat reached after 7 loops\n",
      "Experiment: 4\n",
      "S obs: 103.46520918267822\n",
      "Test stat reached after 1 loops\n"
     ]
    },
    {
     "data": {
      "image/png": "[encoded data removed]",
      "text/plain": [
       "<IPython.core.display.Image object>"
      ]
     },
     "metadata": {},
     "output_type": "display_data"
    }
   ],
   "source": [
    "for name_BSM in BSM_samples:\n",
    "    print('\\n\\n'+name_BSM)\n",
    "    dic_p_val[name_BSM] = []\n",
    "    for xsec_BSM in np.logspace(-5, -4, 2): \n",
    "        print('xsec BSM {:.1e} pb'.format(xsec_BSM))\n",
    "        lumi_text = '{:.1f} fb^{{-1}} (14 TeV), '.format(1e-3*lumi) + sample_label_ROOT[name_BSM] + ' ({:.2} pb)'.format(xsec_BSM)\n",
    "\n",
    "        p_val_test = []\n",
    "        for i_exp in range(N_exp_per_xsec):\n",
    "            print('Experiment:', i_exp)\n",
    "            d_obs = np.zeros((0,2))\n",
    "\n",
    "            sample_xsec[name_BSM] = xsec_BSM\n",
    "            for n in SM_samples + [name_BSM]:\n",
    "                nExpEvts = lumi*sample_xsec[n]*sample_eff[n]\n",
    "                nEvts = np.random.poisson(nExpEvts)\n",
    "                if data[n]['mJJ'].shape[0] < nEvts:\n",
    "                    print('[WARNING] ' + n + ' re-use factor = {:.2f}'.format(float(nEvts)/data[n]['mJJ'].shape[0]))\n",
    "                evtsIdx = np.random.randint(0, data[n]['mJJ'].shape[0], size=(nEvts,))\n",
    "\n",
    "                d_aux = np.column_stack((data[n]['mJJ'][evtsIdx], data[n]['sel'][evtsIdx]))\n",
    "                d_obs = np.concatenate((d_obs, d_aux))\n",
    "\n",
    "            h_a = create_TH1D(d_obs[:, 0][d_obs[:,1].astype(np.bool)], \n",
    "                                 name='h_acc', title='Accepted',\n",
    "                                 binning=binning,\n",
    "                                 opt='overflow'\n",
    "                                )\n",
    "\n",
    "            h_r = create_TH1D(d_obs[:, 0][np.logical_not(d_obs[:,1]).astype(np.bool)], \n",
    "                                 name='h_rej', title='Rejected',\n",
    "                                 axis_title=['M_{jj} [GeV]', ''],\n",
    "                                 binning=binning,\n",
    "                                 opt='overflow'\n",
    "                                )\n",
    "            h_r.SetYTitle('Events / {:.0f} GeV'.format(h_r.GetBinWidth(1)))\n",
    "\n",
    "            h_a_bin_content, _ = rootTH1_to_np(h_a)\n",
    "            h_r_bin_content, _ = rootTH1_to_np(h_r)\n",
    "            p_val = HypotesisTets(h_a_bin_content, h_r_bin_content, SM_eff, N_asymov = N_asymov, show_hist=False)\n",
    "            p_val_test.append(p_val)\n",
    "\n",
    "            if i_exp > 3 and np.max(p_val_test) == 0:\n",
    "                break\n",
    "\n",
    "            if i_exp == 0:\n",
    "                h_a_sig = create_TH1D(d_obs[-nEvts-1:, 0][d_obs[-nEvts-1:, 1].astype(np.bool)], \n",
    "                                     name='h_acc', title='Accepted',\n",
    "                                     binning=binning,\n",
    "                                     opt='overflow'\n",
    "                                    )\n",
    "                c = plotMassSpectrum_wSig(h_r, h_a, h_a_sig, name_BSM, lumi_text, p_val)\n",
    "                fig_name = 'fig/'\n",
    "                fig_name += name_BSM + '{:1.2e}'.format(xsec_BSM) + 'pb' + '_L' + str(lumi) + 'pb-1_wEff'\n",
    "                c.SaveAs(fig_name + '.png')\n",
    "                #c.Draw()\n",
    "                \n",
    "        aux = [xsec_BSM] + list(np.percentile(p_val_test, [2.5, 16, 50, 84, 97.5]))\n",
    "        dic_p_val[name_BSM].append(aux)"
   ]
  },
  {
   "cell_type": "markdown",
   "metadata": {},
   "source": [
    "# Make the p-value plot"
   ]
  },
  {
   "cell_type": "code",
   "execution_count": 35,
   "metadata": {
    "ExecuteTime": {
     "end_time": "2019-08-01T11:46:23.377368Z",
     "start_time": "2019-08-01T11:46:23.360830Z"
    }
   },
   "outputs": [],
   "source": [
    "sample_col = {\n",
    "              'GtoWW1':'b',\n",
    "              'GtoWW2':'g',\n",
    "              'GtoWW3':'r',\n",
    "              'GtoWW4':'m',\n",
    "              'AtoHZ':'v',\n",
    "              'GtoTTBroad':'s',\n",
    "              'GtoTTNarr':'c'\n",
    "             }"
   ]
  },
  {
   "cell_type": "code",
   "execution_count": 36,
   "metadata": {
    "ExecuteTime": {
     "end_time": "2019-08-01T12:05:16.303344Z",
     "start_time": "2019-08-01T12:05:13.777854Z"
    }
   },
   "outputs": [
    {
     "name": "stdout",
     "output_type": "stream",
     "text": [
      "[1.e-05 1.e-04] [0.00028889 0.00093333]\n",
      "[1.e-05 1.e-04] [0.000725 0.0136  ]\n"
     ]
    },
    {
     "ename": "KeyError",
     "evalue": "'GtoTTBroad'",
     "output_type": "error",
     "traceback": [
      "\u001b[0;31m\u001b[0m",
      "\u001b[0;31mKeyError\u001b[0mTraceback (most recent call last)",
      "\u001b[0;32m<ipython-input-36-e63ab603be89>\u001b[0m in \u001b[0;36m<module>\u001b[0;34m()\u001b[0m\n\u001b[1;32m      7\u001b[0m     \u001b[0mquant\u001b[0m \u001b[0;34m=\u001b[0m \u001b[0mval_aux\u001b[0m\u001b[0;34m[\u001b[0m\u001b[0;34m:\u001b[0m\u001b[0;34m,\u001b[0m \u001b[0;36m1\u001b[0m\u001b[0;34m:\u001b[0m\u001b[0;34m]\u001b[0m\u001b[0;34m\u001b[0m\u001b[0m\n\u001b[1;32m      8\u001b[0m \u001b[0;34m\u001b[0m\u001b[0m\n\u001b[0;32m----> 9\u001b[0;31m     \u001b[0max1\u001b[0m\u001b[0;34m.\u001b[0m\u001b[0mplot\u001b[0m\u001b[0;34m(\u001b[0m\u001b[0mx_sec\u001b[0m\u001b[0;34m,\u001b[0m \u001b[0mquant\u001b[0m\u001b[0;34m[\u001b[0m\u001b[0;34m:\u001b[0m\u001b[0;34m,\u001b[0m \u001b[0;36m2\u001b[0m\u001b[0;34m]\u001b[0m\u001b[0;34m,\u001b[0m \u001b[0mcolor\u001b[0m\u001b[0;34m=\u001b[0m\u001b[0msample_col\u001b[0m\u001b[0;34m[\u001b[0m\u001b[0mn\u001b[0m\u001b[0;34m]\u001b[0m\u001b[0;34m,\u001b[0m \u001b[0mlabel\u001b[0m\u001b[0;34m=\u001b[0m\u001b[0msample_label\u001b[0m\u001b[0;34m[\u001b[0m\u001b[0mn\u001b[0m\u001b[0;34m]\u001b[0m\u001b[0;34m)\u001b[0m\u001b[0;34m\u001b[0m\u001b[0m\n\u001b[0m\u001b[1;32m     10\u001b[0m     \u001b[0;32mprint\u001b[0m\u001b[0;34m(\u001b[0m\u001b[0mx_sec\u001b[0m\u001b[0;34m,\u001b[0m \u001b[0mquant\u001b[0m\u001b[0;34m[\u001b[0m\u001b[0;34m:\u001b[0m\u001b[0;34m,\u001b[0m\u001b[0;36m2\u001b[0m\u001b[0;34m]\u001b[0m\u001b[0;34m)\u001b[0m\u001b[0;34m\u001b[0m\u001b[0m\n\u001b[1;32m     11\u001b[0m     \u001b[0max1\u001b[0m\u001b[0;34m.\u001b[0m\u001b[0mfill_between\u001b[0m\u001b[0;34m(\u001b[0m\u001b[0mx_sec\u001b[0m\u001b[0;34m,\u001b[0m \u001b[0mquant\u001b[0m\u001b[0;34m[\u001b[0m\u001b[0;34m:\u001b[0m\u001b[0;34m,\u001b[0m \u001b[0;36m1\u001b[0m\u001b[0;34m]\u001b[0m\u001b[0;34m,\u001b[0m \u001b[0mquant\u001b[0m\u001b[0;34m[\u001b[0m\u001b[0;34m:\u001b[0m\u001b[0;34m,\u001b[0m \u001b[0;36m3\u001b[0m\u001b[0;34m]\u001b[0m\u001b[0;34m,\u001b[0m \u001b[0mcolor\u001b[0m\u001b[0;34m=\u001b[0m\u001b[0msample_col\u001b[0m\u001b[0;34m[\u001b[0m\u001b[0mn\u001b[0m\u001b[0;34m]\u001b[0m\u001b[0;34m,\u001b[0m \u001b[0malpha\u001b[0m \u001b[0;34m=\u001b[0m \u001b[0;36m0.1\u001b[0m\u001b[0;34m,\u001b[0m \u001b[0mlw\u001b[0m\u001b[0;34m=\u001b[0m\u001b[0;36m0\u001b[0m\u001b[0;34m)\u001b[0m\u001b[0;34m\u001b[0m\u001b[0m\n",
      "\u001b[0;31mKeyError\u001b[0m: 'GtoTTBroad'"
     ]
    },
    {
     "data": {
      "image/png": "[encoded data removed]",
      "text/plain": [
       "<matplotlib.figure.Figure at 0x7f4288f61150>"
      ]
     },
     "metadata": {},
     "output_type": "display_data"
    }
   ],
   "source": [
    "matplotlib.rcParams.update({'font.size': 18})\n",
    "fig, ax1 = plt.subplots(figsize=(8,8))\n",
    "\n",
    "for n, val_aux in dic_p_val.iteritems():\n",
    "    val_aux = np.array(val_aux)\n",
    "    x_sec = val_aux[:, 0]\n",
    "    quant = val_aux[:, 1:]\n",
    "    \n",
    "    ax1.plot(x_sec, quant[:, 2], color=sample_col[n], label=sample_label[n])\n",
    "    print(x_sec, quant[:,2])\n",
    "    ax1.fill_between(x_sec, quant[:, 1], quant[:, 3], color=sample_col[n], alpha = 0.1, lw=0)\n",
    "#     ax1.fill_between(x_sec, quant[:, 0], quant[:, 4], color=sample_col[n], alpha = 0.1, lw=0)\n",
    "    \n",
    "    \n",
    "plt.xscale('log')\n",
    "plt.xlabel('Cross section [pb]')\n",
    "plt.yscale('log')\n",
    "plt.ylabel('p-value')\n",
    "plt.ylim(1 - erf(5.5/np.sqrt(2)), 1)\n",
    "plt.legend(loc='upper right')\n",
    "ax2 = ax1.twinx()\n",
    "for i in range(1, 6):\n",
    "    p = 1 - erf(i/np.sqrt(2))\n",
    "    ax2.plot([x_sec[0], x_sec[-1]], 2*[p], '--', color='grey')\n",
    "plt.yscale('log')\n",
    "ax2.set_yticks(1 - erf(np.arange(1,6)/np.sqrt(2)))\n",
    "ax2.set_yticklabels(['{}$\\sigma$'.format(i) for i in range(1,6)])\n",
    "ax2.tick_params(axis='y', labelcolor='grey')\n",
    "\n",
    "fig.savefig('fig/' + 'pValueScan_L' + str(lumi) + 'pb-1.png', bbox_inches='tight')"
   ]
  },
  {
   "cell_type": "code",
   "execution_count": null,
   "metadata": {},
   "outputs": [],
   "source": []
  },
  {
   "cell_type": "code",
   "execution_count": null,
   "metadata": {},
   "outputs": [],
   "source": []
  }
 ],
 "metadata": {
  "kernelspec": {
   "display_name": "Python 2",
   "language": "python",
   "name": "python2"
  },
  "language_info": {
   "codemirror_mode": {
    "name": "ipython",
    "version": 2
   },
   "file_extension": ".py",
   "mimetype": "text/x-python",
   "name": "python",
   "nbconvert_exporter": "python",
   "pygments_lexer": "ipython2",
   "version": "2.7.14+"
  }
 },
 "nbformat": 4,
 "nbformat_minor": 2
}
