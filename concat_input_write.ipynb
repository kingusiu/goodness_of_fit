{
 "cells": [
  {
   "cell_type": "code",
   "execution_count": 1,
   "metadata": {},
   "outputs": [],
   "source": [
    "import os"
   ]
  },
  {
   "cell_type": "code",
   "execution_count": 3,
   "metadata": {},
   "outputs": [],
   "source": [
    "from reading_util import *\n",
    "from writing_util import *\n",
    "import string_constants as sc"
   ]
  },
  {
   "cell_type": "code",
   "execution_count": 4,
   "metadata": {},
   "outputs": [],
   "source": [
    "# data\n",
    "samples = ['GtoWW15na','GtoWW25na','GtoWW30na','GtoWW35na','GtoWW45na','GtoWW15br','GtoWW25br','GtoWW35br','GtoWW45br']\n",
    "#samples = ['qcdSig','GtoWW15na','GtoWW25na','GtoWW35na','GtoWW45na','GtoWW15br','GtoWW25br','GtoWW35br','GtoWW45br']"
   ]
  },
  {
   "cell_type": "code",
   "execution_count": 5,
   "metadata": {},
   "outputs": [],
   "source": [
    "#out_dir = '/eos/user/k/kiwoznia/data/VAE_data/march_2020_data/input/events'\n",
    "out_dir = '/eos/project/d/dshep/TOPCLASS/DijetAnomaly/VAE_data/new_samples'\n",
    "max_num_evts=int(2e9)"
   ]
  },
  {
   "cell_type": "code",
   "execution_count": 6,
   "metadata": {},
   "outputs": [
    {
     "name": "stdout",
     "output_type": "stream",
     "text": [
      "('reading', '/eos/project/d/dshep/TOPCLASS/DijetAnomaly/RSGraviton_WW_NARROW_13TeV_PU40_1.5TeV')\n",
      "('reading ', '/eos/project/d/dshep/TOPCLASS/DijetAnomaly/RSGraviton_WW_NARROW_13TeV_PU40_1.5TeV')\n",
      "('num files in dir:', 100)\n",
      "[--------------------]  0% - ETA: 75.3 h   ('\\nCould not read file ', '/eos/project/d/dshep/TOPCLASS/DijetAnomaly/RSGraviton_WW_NARROW_13TeV_PU40_1.5TeV/RSGraviton_WW_NARROW_13TeV_PU40_1.5TeV_44.h5', ': ', \"IndexError('too many indices for array',)\")\n",
      "[--------------------]  0% - ETA: 84.9 h   ('\\nnum files read in dir ', '/eos/project/d/dshep/TOPCLASS/DijetAnomaly/RSGraviton_WW_NARROW_13TeV_PU40_1.5TeV', ': ', 100)\n",
      "('read', 448032, 'particles. writing to concat file')\n",
      "('reading', '/eos/project/d/dshep/TOPCLASS/DijetAnomaly/RSGraviton_WW_NARROW_13TeV_PU40_2.5TeV')\n",
      "('reading ', '/eos/project/d/dshep/TOPCLASS/DijetAnomaly/RSGraviton_WW_NARROW_13TeV_PU40_2.5TeV')\n",
      "('num files in dir:', 100)\n",
      "[--------------------]  0% - ETA: 86.5 h   ('\\nnum files read in dir ', '/eos/project/d/dshep/TOPCLASS/DijetAnomaly/RSGraviton_WW_NARROW_13TeV_PU40_2.5TeV', ': ', 100)\n",
      "('read', 512505, 'particles. writing to concat file')\n",
      "('reading', '/eos/project/d/dshep/TOPCLASS/DijetAnomaly/RSGraviton_WW_NARROW_13TeV_PU40_3.0TeV')\n",
      "('reading ', '/eos/project/d/dshep/TOPCLASS/DijetAnomaly/RSGraviton_WW_NARROW_13TeV_PU40_3.0TeV')\n",
      "('num files in dir:', 100)\n",
      "[--------------------]  0% - ETA: 81.5 h   ('\\nnum files read in dir ', '/eos/project/d/dshep/TOPCLASS/DijetAnomaly/RSGraviton_WW_NARROW_13TeV_PU40_3.0TeV', ': ', 100)\n",
      "('read', 530775, 'particles. writing to concat file')\n",
      "('reading', '/eos/project/d/dshep/TOPCLASS/DijetAnomaly/RSGraviton_WW_NARROW_13TeV_PU40_3.5TeV')\n",
      "('reading ', '/eos/project/d/dshep/TOPCLASS/DijetAnomaly/RSGraviton_WW_NARROW_13TeV_PU40_3.5TeV')\n",
      "('num files in dir:', 100)\n",
      "[--------------------]  0% - ETA: 74.2 h   ('\\nCould not read file ', '/eos/project/d/dshep/TOPCLASS/DijetAnomaly/RSGraviton_WW_NARROW_13TeV_PU40_3.5TeV/RSGraviton_WW_NARROW_13TeV_PU40_3.5TeV_61.h5', ': ', \"IOError('Unable to open file (file signature not found)',)\")\n",
      "[--------------------]  0% - ETA: 73.2 h   ('\\nCould not read file ', '/eos/project/d/dshep/TOPCLASS/DijetAnomaly/RSGraviton_WW_NARROW_13TeV_PU40_3.5TeV/RSGraviton_WW_NARROW_13TeV_PU40_3.5TeV_65.h5', ': ', \"IOError('Unable to open file (file signature not found)',)\")\n",
      "[--------------------]  0% - ETA: 71.2 h   ('\\nCould not read file ', '/eos/project/d/dshep/TOPCLASS/DijetAnomaly/RSGraviton_WW_NARROW_13TeV_PU40_3.5TeV/RSGraviton_WW_NARROW_13TeV_PU40_3.5TeV_86.h5', ': ', \"IOError('Unable to open file (file signature not found)',)\")\n",
      "[--------------------]  0% - ETA: 72.6 h   ('\\nCould not read file ', '/eos/project/d/dshep/TOPCLASS/DijetAnomaly/RSGraviton_WW_NARROW_13TeV_PU40_3.5TeV/RSGraviton_WW_NARROW_13TeV_PU40_3.5TeV_99.h5', ': ', \"IOError('Unable to open file (file signature not found)',)\")\n"
     ]
    },
    {
     "ename": "IOError",
     "evalue": "Unable to open file (file signature not found)",
     "output_type": "error",
     "traceback": [
      "\u001b[0;31m---------------------------------------------------------------------------\u001b[0m",
      "\u001b[0;31mIOError\u001b[0m                                   Traceback (most recent call last)",
      "\u001b[0;32m<ipython-input-6-f6ef7b861a01>\u001b[0m in \u001b[0;36m<module>\u001b[0;34m()\u001b[0m\n\u001b[1;32m      1\u001b[0m \u001b[0;32mfor\u001b[0m \u001b[0msample\u001b[0m \u001b[0;32min\u001b[0m \u001b[0msamples\u001b[0m\u001b[0;34m:\u001b[0m\u001b[0;34m\u001b[0m\u001b[0m\n\u001b[1;32m      2\u001b[0m     \u001b[0mpath\u001b[0m \u001b[0;34m=\u001b[0m \u001b[0mos\u001b[0m\u001b[0;34m.\u001b[0m\u001b[0mpath\u001b[0m\u001b[0;34m.\u001b[0m\u001b[0mjoin\u001b[0m\u001b[0;34m(\u001b[0m \u001b[0msc\u001b[0m\u001b[0;34m.\u001b[0m\u001b[0minput_dir\u001b[0m\u001b[0;34m,\u001b[0m \u001b[0msc\u001b[0m\u001b[0;34m.\u001b[0m\u001b[0msample_loc\u001b[0m\u001b[0;34m[\u001b[0m\u001b[0msample\u001b[0m\u001b[0;34m]\u001b[0m \u001b[0;34m)\u001b[0m\u001b[0;34m\u001b[0m\u001b[0m\n\u001b[0;32m----> 3\u001b[0;31m     \u001b[0mparticles\u001b[0m\u001b[0;34m,\u001b[0m \u001b[0mparticle_feature_names\u001b[0m\u001b[0;34m,\u001b[0m \u001b[0mjet_features\u001b[0m\u001b[0;34m,\u001b[0m \u001b[0mjet_feature_names\u001b[0m \u001b[0;34m=\u001b[0m \u001b[0mread_dijet_events_and_features_from_dir\u001b[0m\u001b[0;34m(\u001b[0m\u001b[0mpath\u001b[0m\u001b[0;34m,\u001b[0m\u001b[0mmax_num_evts\u001b[0m\u001b[0;34m=\u001b[0m\u001b[0mmax_num_evts\u001b[0m\u001b[0;34m)\u001b[0m\u001b[0;34m\u001b[0m\u001b[0m\n\u001b[0m\u001b[1;32m      4\u001b[0m     \u001b[0;32mprint\u001b[0m\u001b[0;34m(\u001b[0m\u001b[0;34m'read'\u001b[0m\u001b[0;34m,\u001b[0m\u001b[0mlen\u001b[0m\u001b[0;34m(\u001b[0m\u001b[0mparticles\u001b[0m\u001b[0;34m)\u001b[0m\u001b[0;34m,\u001b[0m\u001b[0;34m'particles. writing to concat file'\u001b[0m\u001b[0;34m)\u001b[0m\u001b[0;34m\u001b[0m\u001b[0m\n\u001b[1;32m      5\u001b[0m     \u001b[0mout_path\u001b[0m \u001b[0;34m=\u001b[0m \u001b[0mos\u001b[0m\u001b[0;34m.\u001b[0m\u001b[0mpath\u001b[0m\u001b[0;34m.\u001b[0m\u001b[0mjoin\u001b[0m\u001b[0;34m(\u001b[0m\u001b[0mout_dir\u001b[0m\u001b[0;34m,\u001b[0m\u001b[0msc\u001b[0m\u001b[0;34m.\u001b[0m\u001b[0msample_loc\u001b[0m\u001b[0;34m[\u001b[0m\u001b[0msample\u001b[0m\u001b[0;34m]\u001b[0m\u001b[0;34m+\u001b[0m\u001b[0;34m'_mjj_cut_concat.h5'\u001b[0m\u001b[0;34m)\u001b[0m\u001b[0;34m\u001b[0m\u001b[0m\n",
      "\u001b[0;32m/afs/cern.ch/user/k/kiwoznia/dev/convVAE_2D/goodness_of_fit/reading_util.pyc\u001b[0m in \u001b[0;36mread_dijet_events_and_features_from_dir\u001b[0;34m(dir_path, max_num_evts)\u001b[0m\n\u001b[1;32m    153\u001b[0m             \u001b[0;32mbreak\u001b[0m\u001b[0;34m\u001b[0m\u001b[0m\n\u001b[1;32m    154\u001b[0m \u001b[0;34m\u001b[0m\u001b[0m\n\u001b[0;32m--> 155\u001b[0;31m     \u001b[0mparticle_feature_names\u001b[0m\u001b[0;34m,\u001b[0m \u001b[0;34m=\u001b[0m \u001b[0mread_data_from_file\u001b[0m\u001b[0;34m(\u001b[0m \u001b[0mfname\u001b[0m\u001b[0;34m,\u001b[0m \u001b[0;34m'particleFeatureNames'\u001b[0m \u001b[0;34m)\u001b[0m\u001b[0;34m\u001b[0m\u001b[0m\n\u001b[0m\u001b[1;32m    156\u001b[0m     \u001b[0mevt_feature_names\u001b[0m\u001b[0;34m,\u001b[0m \u001b[0;34m=\u001b[0m \u001b[0mread_data_from_file\u001b[0m\u001b[0;34m(\u001b[0m \u001b[0mfname\u001b[0m\u001b[0;34m,\u001b[0m \u001b[0;34m'eventFeatureNames'\u001b[0m \u001b[0;34m)\u001b[0m\u001b[0;34m\u001b[0m\u001b[0m\n\u001b[1;32m    157\u001b[0m \u001b[0;34m\u001b[0m\u001b[0m\n",
      "\u001b[0;32m/afs/cern.ch/user/k/kiwoznia/dev/convVAE_2D/goodness_of_fit/reading_util.pyc\u001b[0m in \u001b[0;36mread_data_from_file\u001b[0;34m(file_path, *keys)\u001b[0m\n\u001b[1;32m     79\u001b[0m \u001b[0;32mdef\u001b[0m \u001b[0mread_data_from_file\u001b[0m\u001b[0;34m(\u001b[0m \u001b[0mfile_path\u001b[0m\u001b[0;34m,\u001b[0m \u001b[0;34m*\u001b[0m\u001b[0mkeys\u001b[0m \u001b[0;34m)\u001b[0m\u001b[0;34m:\u001b[0m\u001b[0;34m\u001b[0m\u001b[0m\n\u001b[1;32m     80\u001b[0m     \u001b[0mdata\u001b[0m \u001b[0;34m=\u001b[0m \u001b[0;34m[\u001b[0m\u001b[0;34m]\u001b[0m\u001b[0;34m\u001b[0m\u001b[0m\n\u001b[0;32m---> 81\u001b[0;31m     \u001b[0;32mwith\u001b[0m \u001b[0mh5py\u001b[0m\u001b[0;34m.\u001b[0m\u001b[0mFile\u001b[0m\u001b[0;34m(\u001b[0m\u001b[0mfile_path\u001b[0m\u001b[0;34m,\u001b[0m\u001b[0;34m'r'\u001b[0m\u001b[0;34m)\u001b[0m \u001b[0;32mas\u001b[0m \u001b[0mf\u001b[0m\u001b[0;34m:\u001b[0m\u001b[0;34m\u001b[0m\u001b[0m\n\u001b[0m\u001b[1;32m     82\u001b[0m         \u001b[0;32mif\u001b[0m \u001b[0;32mnot\u001b[0m \u001b[0mkeys\u001b[0m\u001b[0;34m:\u001b[0m\u001b[0;34m\u001b[0m\u001b[0m\n\u001b[1;32m     83\u001b[0m             \u001b[0mkeys\u001b[0m \u001b[0;34m=\u001b[0m \u001b[0mf\u001b[0m\u001b[0;34m.\u001b[0m\u001b[0mkeys\u001b[0m\u001b[0;34m(\u001b[0m\u001b[0;34m)\u001b[0m\u001b[0;34m\u001b[0m\u001b[0m\n",
      "\u001b[0;32m/cvmfs/cms.cern.ch/slc7_amd64_gcc700/external/py2-h5py/2.8.0/lib/python2.7/site-packages/h5py/_hl/files.pyc\u001b[0m in \u001b[0;36m__init__\u001b[0;34m(self, name, mode, driver, libver, userblock_size, swmr, **kwds)\u001b[0m\n\u001b[1;32m    310\u001b[0m             \u001b[0;32mwith\u001b[0m \u001b[0mphil\u001b[0m\u001b[0;34m:\u001b[0m\u001b[0;34m\u001b[0m\u001b[0m\n\u001b[1;32m    311\u001b[0m                 \u001b[0mfapl\u001b[0m \u001b[0;34m=\u001b[0m \u001b[0mmake_fapl\u001b[0m\u001b[0;34m(\u001b[0m\u001b[0mdriver\u001b[0m\u001b[0;34m,\u001b[0m \u001b[0mlibver\u001b[0m\u001b[0;34m,\u001b[0m \u001b[0;34m**\u001b[0m\u001b[0mkwds\u001b[0m\u001b[0;34m)\u001b[0m\u001b[0;34m\u001b[0m\u001b[0m\n\u001b[0;32m--> 312\u001b[0;31m                 \u001b[0mfid\u001b[0m \u001b[0;34m=\u001b[0m \u001b[0mmake_fid\u001b[0m\u001b[0;34m(\u001b[0m\u001b[0mname\u001b[0m\u001b[0;34m,\u001b[0m \u001b[0mmode\u001b[0m\u001b[0;34m,\u001b[0m \u001b[0muserblock_size\u001b[0m\u001b[0;34m,\u001b[0m \u001b[0mfapl\u001b[0m\u001b[0;34m,\u001b[0m \u001b[0mswmr\u001b[0m\u001b[0;34m=\u001b[0m\u001b[0mswmr\u001b[0m\u001b[0;34m)\u001b[0m\u001b[0;34m\u001b[0m\u001b[0m\n\u001b[0m\u001b[1;32m    313\u001b[0m \u001b[0;34m\u001b[0m\u001b[0m\n\u001b[1;32m    314\u001b[0m                 \u001b[0;32mif\u001b[0m \u001b[0mswmr_support\u001b[0m\u001b[0;34m:\u001b[0m\u001b[0;34m\u001b[0m\u001b[0m\n",
      "\u001b[0;32m/cvmfs/cms.cern.ch/slc7_amd64_gcc700/external/py2-h5py/2.8.0/lib/python2.7/site-packages/h5py/_hl/files.pyc\u001b[0m in \u001b[0;36mmake_fid\u001b[0;34m(name, mode, userblock_size, fapl, fcpl, swmr)\u001b[0m\n\u001b[1;32m    140\u001b[0m         \u001b[0;32mif\u001b[0m \u001b[0mswmr\u001b[0m \u001b[0;32mand\u001b[0m \u001b[0mswmr_support\u001b[0m\u001b[0;34m:\u001b[0m\u001b[0;34m\u001b[0m\u001b[0m\n\u001b[1;32m    141\u001b[0m             \u001b[0mflags\u001b[0m \u001b[0;34m|=\u001b[0m \u001b[0mh5f\u001b[0m\u001b[0;34m.\u001b[0m\u001b[0mACC_SWMR_READ\u001b[0m\u001b[0;34m\u001b[0m\u001b[0m\n\u001b[0;32m--> 142\u001b[0;31m         \u001b[0mfid\u001b[0m \u001b[0;34m=\u001b[0m \u001b[0mh5f\u001b[0m\u001b[0;34m.\u001b[0m\u001b[0mopen\u001b[0m\u001b[0;34m(\u001b[0m\u001b[0mname\u001b[0m\u001b[0;34m,\u001b[0m \u001b[0mflags\u001b[0m\u001b[0;34m,\u001b[0m \u001b[0mfapl\u001b[0m\u001b[0;34m=\u001b[0m\u001b[0mfapl\u001b[0m\u001b[0;34m)\u001b[0m\u001b[0;34m\u001b[0m\u001b[0m\n\u001b[0m\u001b[1;32m    143\u001b[0m     \u001b[0;32melif\u001b[0m \u001b[0mmode\u001b[0m \u001b[0;34m==\u001b[0m \u001b[0;34m'r+'\u001b[0m\u001b[0;34m:\u001b[0m\u001b[0;34m\u001b[0m\u001b[0m\n\u001b[1;32m    144\u001b[0m         \u001b[0mfid\u001b[0m \u001b[0;34m=\u001b[0m \u001b[0mh5f\u001b[0m\u001b[0;34m.\u001b[0m\u001b[0mopen\u001b[0m\u001b[0;34m(\u001b[0m\u001b[0mname\u001b[0m\u001b[0;34m,\u001b[0m \u001b[0mh5f\u001b[0m\u001b[0;34m.\u001b[0m\u001b[0mACC_RDWR\u001b[0m\u001b[0;34m,\u001b[0m \u001b[0mfapl\u001b[0m\u001b[0;34m=\u001b[0m\u001b[0mfapl\u001b[0m\u001b[0;34m)\u001b[0m\u001b[0;34m\u001b[0m\u001b[0m\n",
      "\u001b[0;32mh5py/_objects.pyx\u001b[0m in \u001b[0;36mh5py._objects.with_phil.wrapper\u001b[0;34m()\u001b[0m\n",
      "\u001b[0;32mh5py/_objects.pyx\u001b[0m in \u001b[0;36mh5py._objects.with_phil.wrapper\u001b[0;34m()\u001b[0m\n",
      "\u001b[0;32mh5py/h5f.pyx\u001b[0m in \u001b[0;36mh5py.h5f.open\u001b[0;34m()\u001b[0m\n",
      "\u001b[0;31mIOError\u001b[0m: Unable to open file (file signature not found)"
     ]
    }
   ],
   "source": [
    "for sample in samples:\n",
    "    path = os.path.join( sc.input_dir, sc.sample_loc[sample] )\n",
    "    particles, particle_feature_names, jet_features, jet_feature_names = read_dijet_events_and_features_from_dir(path,max_num_evts=max_num_evts)\n",
    "    print('read',len(particles),'particles. writing to concat file')\n",
    "    out_path = os.path.join(out_dir,sc.sample_loc[sample]+'_mjj_cut_concat.h5')\n",
    "    dataset_names = ['jetConstituentsList','particleFeatureNames','eventFeatures','eventFeatureNames']\n",
    "    write_data_to_file( [np.asarray(particles), particle_feature_names, np.asarray(jet_features), jet_feature_names], dataset_names, out_path )"
   ]
  },
  {
   "cell_type": "code",
   "execution_count": null,
   "metadata": {},
   "outputs": [],
   "source": []
  }
 ],
 "metadata": {
  "kernelspec": {
   "display_name": "Python 3",
   "language": "python",
   "name": "python3"
  },
  "language_info": {
   "codemirror_mode": {
    "name": "ipython",
    "version": 2
   },
   "file_extension": ".py",
   "mimetype": "text/x-python",
   "name": "python",
   "nbconvert_exporter": "python",
   "pygments_lexer": "ipython2",
   "version": "2.7.14+"
  }
 },
 "nbformat": 4,
 "nbformat_minor": 2
}
