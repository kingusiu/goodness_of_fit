{
 "cells": [
  {
   "cell_type": "code",
   "execution_count": 1,
   "metadata": {},
   "outputs": [],
   "source": [
    "from reading_util import *\n",
    "from writing_util import *\n",
    "import string_constants as sc"
   ]
  },
  {
   "cell_type": "code",
   "execution_count": 2,
   "metadata": {},
   "outputs": [
    {
     "name": "stdout",
     "output_type": "stream",
     "text": [
      "reading data\n",
      "reading  data\n",
      "num files in dir: 4\n",
      "[--------------------]  0% - ETA:231.2 h   \n",
      "num files read in dir  data :  4\n"
     ]
    }
   ],
   "source": [
    "# read in data\n",
    "sample = 'qcdSide'\n",
    "particles, particle_feature_names, jet_features, jet_feature_names = read_dijet_events_and_features_from_dir( os.path.join( sc.input_dir, sc.sample_loc[sample] ) )"
   ]
  },
  {
   "cell_type": "code",
   "execution_count": 4,
   "metadata": {},
   "outputs": [],
   "source": [
    "out_path = '/eos/project/d/dshep/TOPCLASS/DijetAnomaly/VAE_data/qcd_sqrtshatTeV_13TeV_PU40_SIDEBAND_mjj_cut_concat.h5' \n",
    "dataset_names = ['jetConstituentsList','particleFeatureNames','eventFeatures','eventFeatureNames']\n",
    "write_data_to_file( [particles, particle_feature_names, jet_features, jet_feature_names], dataset_names, out_path )"
   ]
  },
  {
   "cell_type": "code",
   "execution_count": 5,
   "metadata": {},
   "outputs": [
    {
     "name": "stdout",
     "output_type": "stream",
     "text": [
      "(12084, 2, 100, 3)\n"
     ]
    }
   ],
   "source": [
    "print(particles.shape)"
   ]
  },
  {
   "cell_type": "code",
   "execution_count": null,
   "metadata": {},
   "outputs": [],
   "source": []
  }
 ],
 "metadata": {
  "kernelspec": {
   "display_name": "Python 3",
   "language": "python",
   "name": "python3"
  },
  "language_info": {
   "codemirror_mode": {
    "name": "ipython",
    "version": 3
   },
   "file_extension": ".py",
   "mimetype": "text/x-python",
   "name": "python",
   "nbconvert_exporter": "python",
   "pygments_lexer": "ipython3",
   "version": "3.6.8"
  }
 },
 "nbformat": 4,
 "nbformat_minor": 2
}
