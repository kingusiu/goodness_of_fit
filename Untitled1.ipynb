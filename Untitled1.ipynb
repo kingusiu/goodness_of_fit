{
 "cells": [
  {
   "cell_type": "code",
   "execution_count": 1,
   "metadata": {},
   "outputs": [],
   "source": [
    "from reading_util import *\n",
    "from plotting_util import *"
   ]
  },
  {
   "cell_type": "code",
   "execution_count": 2,
   "metadata": {},
   "outputs": [],
   "source": [
    "base_dir = '/eos/project/d/dshep/TOPCLASS/DijetAnomaly/VAE_results/pt_normalized/training_without_pt_cut'\n",
    "\n",
    "sample_loc = {\n",
    "              'GtoWW15': base_dir + '/RSGraviton_WW_NARROW_13TeV_PU40_1.5TeV',\n",
    "              'GtoWW20': base_dir + '/RSGraviton_WW_NARROW_13TeV_PU40_2.0TeV',\n",
    "              'GtoWW25': base_dir + '/RSGraviton_WW_NARROW_13TeV_PU40_2.5TeV',\n",
    "              'GtoWW30': base_dir + '/RSGraviton_WW_NARROW_13TeV_PU40_3.0TeV',\n",
    "              'GtoWW35': base_dir + '/RSGraviton_WW_NARROW_13TeV_PU40_3.5TeV',\n",
    "              'GtoWW40': base_dir + '/RSGraviton_WW_NARROW_13TeV_PU40_4.0TeV',\n",
    "              'GtoWW45': base_dir + '/RSGraviton_WW_NARROW_13TeV_PU40_4.5TeV',\n",
    "              #'AtoHZ': base_dir + '/AtoHZ_to_ZZZ_13TeV_PU40/',\n",
    "              #'GtoTTBroad': base_dir + '/RSGraviton_tt_BROAD_13TeV_PU40',\n",
    "              #'GtoTTNarr': base_dir + '/RSGraviton_tt_NARROW_13TeV_PU40'\n",
    "             }\n",
    "\n",
    "sample_label = {\n",
    "                'GtoWW15':r'$G(1.5 TeV)\\to WW$',\n",
    "                'GtoWW20':r'$G(2.0 TeV)\\to WW$',\n",
    "                'GtoWW25':r'$G(2.5 TeV)\\to WW$',\n",
    "                'GtoWW30':r'$G(3.0 TeV)\\to WW$',\n",
    "                'GtoWW35':r'$G(3.5 TeV)\\to WW$',\n",
    "                'GtoWW40':r'$G(4.0 TeV)\\to WW$',\n",
    "                'GtoWW45':r'$G(4.5 TeV)\\to WW$',\n",
    "                #'AtoHZ':r'$A \\to HZ \\to ZZZ$',\n",
    "                'GtoTTBroad':r'$G \\to TT broad$',\n",
    "                'GtoTTNarr':r'$G \\to TT narrow$'\n",
    "               }\n",
    "\n",
    "sample_label_ROOT = {\n",
    "                'GtoWW15':'G(1.5 TeV) to WW$',\n",
    "                'GtoWW20':'$G(2.0 TeV) to WW$',\n",
    "                'GtoWW25':'$G(2.5 TeV) to WW$',\n",
    "                'GtoWW30':'$G(3.0 TeV) to WW$',\n",
    "                'GtoWW35':'$G(3.5 TeV) to WW$',\n",
    "                'GtoWW40':'$G(4.0 TeV) to WW$',\n",
    "                'GtoWW45':'$G(4.5 TeV) to WW$',\n",
    "                'AtoHZ':'A to HZ to ZZZ',\n",
    "                'GtoTTBroad':'G to TT broad',\n",
    "                'GtoTTNarr':'G to TT narrow'\n",
    "               }\n",
    "\n",
    "SM_samples = ['qcdSigExt']\n",
    "BSM_samples = ['GtoWW15', 'GtoWW20', 'GtoWW25', 'GtoWW30', 'GtoWW35', 'GtoWW40', 'GtoWW45', 'AtoHZ','GtoTTBroad', 'GtoTTNarr']\n",
    "\n",
    "sample_nGenEvts = { \n",
    "                   'GtoWW15': 100*10000,\n",
    "                   'GtoWW20': 100*10000,\n",
    "                   'GtoWW25': 100*10000,\n",
    "                   'GtoWW30': 100*10000,\n",
    "                   'GtoWW35': 100*10000,\n",
    "                   'GtoWW40': 100*10000,\n",
    "                   'GtoWW45': 100*10000,\n",
    "                   'AtoHZ': 98*1000,\n",
    "                   'GtoTTBroad': 98*1000,\n",
    "                   'GtoTTNarr': 96*1000\n",
    "                  }\n",
    "\n",
    "sample_xsec = {'qcdSigExt': 8734.0 #pb\n",
    "              }"
   ]
  },
  {
   "cell_type": "code",
   "execution_count": 3,
   "metadata": {},
   "outputs": [
    {
     "name": "stdout",
     "output_type": "stream",
     "text": [
      "GtoWW15\n",
      "reading  /eos/project/d/dshep/TOPCLASS/DijetAnomaly/VAE_results/pt_normalized/training_without_pt_cut/RSGraviton_WW_NARROW_13TeV_PU40_1.5TeV\n",
      "num files in dir: 98\n",
      "Labels:\n",
      "[b'mJJ', b'j1Pt', b'j1Eta', b'j1Phi', b'j1M', b'j1E', b'j2Pt', b'j2M', b'j2E', b'DeltaEtaJJ', b'DeltaPhiJJ', b'j1TotalLoss', b'j1RecoLoss', b'j1KlLoss', b'j2TotalLoss', b'j2RecoLoss', b'j2KlLoss']\n",
      "[--------------------]  0% - ETA:  6.9 h   \n",
      "num files read in dir  /eos/project/d/dshep/TOPCLASS/DijetAnomaly/VAE_results/pt_normalized/training_without_pt_cut/RSGraviton_WW_NARROW_13TeV_PU40_1.5TeV :  98\n",
      "GtoWW20\n",
      "reading  /eos/project/d/dshep/TOPCLASS/DijetAnomaly/VAE_results/pt_normalized/training_without_pt_cut/RSGraviton_WW_NARROW_13TeV_PU40_2.0TeV\n",
      "num files in dir: 100\n",
      "Labels:\n",
      "[b'mJJ', b'j1Pt', b'j1Eta', b'j1Phi', b'j1M', b'j1E', b'j2Pt', b'j2M', b'j2E', b'DeltaEtaJJ', b'DeltaPhiJJ', b'j1TotalLoss', b'j1RecoLoss', b'j1KlLoss', b'j2TotalLoss', b'j2RecoLoss', b'j2KlLoss']\n",
      "[--------------------]  0% - ETA:  4.9 h   \n",
      "num files read in dir  /eos/project/d/dshep/TOPCLASS/DijetAnomaly/VAE_results/pt_normalized/training_without_pt_cut/RSGraviton_WW_NARROW_13TeV_PU40_2.0TeV :  100\n",
      "GtoWW25\n",
      "reading  /eos/project/d/dshep/TOPCLASS/DijetAnomaly/VAE_results/pt_normalized/training_without_pt_cut/RSGraviton_WW_NARROW_13TeV_PU40_2.5TeV\n",
      "num files in dir: 100\n",
      "Labels:\n",
      "[b'mJJ', b'j1Pt', b'j1Eta', b'j1Phi', b'j1M', b'j1E', b'j2Pt', b'j2M', b'j2E', b'DeltaEtaJJ', b'DeltaPhiJJ', b'j1TotalLoss', b'j1RecoLoss', b'j1KlLoss', b'j2TotalLoss', b'j2RecoLoss', b'j2KlLoss']\n",
      "[--------------------]  0% - ETA:  6.7 h   \n",
      "num files read in dir  /eos/project/d/dshep/TOPCLASS/DijetAnomaly/VAE_results/pt_normalized/training_without_pt_cut/RSGraviton_WW_NARROW_13TeV_PU40_2.5TeV :  100\n",
      "GtoWW30\n",
      "reading  /eos/project/d/dshep/TOPCLASS/DijetAnomaly/VAE_results/pt_normalized/training_without_pt_cut/RSGraviton_WW_NARROW_13TeV_PU40_3.0TeV\n",
      "num files in dir: 100\n",
      "Labels:\n",
      "[b'mJJ', b'j1Pt', b'j1Eta', b'j1Phi', b'j1M', b'j1E', b'j2Pt', b'j2M', b'j2E', b'DeltaEtaJJ', b'DeltaPhiJJ', b'j1TotalLoss', b'j1RecoLoss', b'j1KlLoss', b'j2TotalLoss', b'j2RecoLoss', b'j2KlLoss']\n",
      "[--------------------]  0% - ETA:  4.9 h   \n",
      "num files read in dir  /eos/project/d/dshep/TOPCLASS/DijetAnomaly/VAE_results/pt_normalized/training_without_pt_cut/RSGraviton_WW_NARROW_13TeV_PU40_3.0TeV :  100\n",
      "GtoWW35\n",
      "reading  /eos/project/d/dshep/TOPCLASS/DijetAnomaly/VAE_results/pt_normalized/training_without_pt_cut/RSGraviton_WW_NARROW_13TeV_PU40_3.5TeV\n",
      "num files in dir: 100\n",
      "Labels:\n",
      "[b'mJJ', b'j1Pt', b'j1Eta', b'j1Phi', b'j1M', b'j1E', b'j2Pt', b'j2M', b'j2E', b'DeltaEtaJJ', b'DeltaPhiJJ', b'j1TotalLoss', b'j1RecoLoss', b'j1KlLoss', b'j2TotalLoss', b'j2RecoLoss', b'j2KlLoss']\n",
      "[--------------------]  0% - ETA:  4.5 h   \n",
      "num files read in dir  /eos/project/d/dshep/TOPCLASS/DijetAnomaly/VAE_results/pt_normalized/training_without_pt_cut/RSGraviton_WW_NARROW_13TeV_PU40_3.5TeV :  100\n",
      "GtoWW40\n",
      "reading  /eos/project/d/dshep/TOPCLASS/DijetAnomaly/VAE_results/pt_normalized/training_without_pt_cut/RSGraviton_WW_NARROW_13TeV_PU40_4.0TeV\n",
      "num files in dir: 100\n",
      "Labels:\n",
      "[b'mJJ', b'j1Pt', b'j1Eta', b'j1Phi', b'j1M', b'j1E', b'j2Pt', b'j2M', b'j2E', b'DeltaEtaJJ', b'DeltaPhiJJ', b'j1TotalLoss', b'j1RecoLoss', b'j1KlLoss', b'j2TotalLoss', b'j2RecoLoss', b'j2KlLoss']\n",
      "[--------------------]  0% - ETA:  4.0 h   \n",
      "num files read in dir  /eos/project/d/dshep/TOPCLASS/DijetAnomaly/VAE_results/pt_normalized/training_without_pt_cut/RSGraviton_WW_NARROW_13TeV_PU40_4.0TeV :  100\n",
      "GtoWW45\n",
      "reading  /eos/project/d/dshep/TOPCLASS/DijetAnomaly/VAE_results/pt_normalized/training_without_pt_cut/RSGraviton_WW_NARROW_13TeV_PU40_4.5TeV\n",
      "num files in dir: 100\n",
      "Labels:\n",
      "[b'mJJ', b'j1Pt', b'j1Eta', b'j1Phi', b'j1M', b'j1E', b'j2Pt', b'j2M', b'j2E', b'DeltaEtaJJ', b'DeltaPhiJJ', b'j1TotalLoss', b'j1RecoLoss', b'j1KlLoss', b'j2TotalLoss', b'j2RecoLoss', b'j2KlLoss']\n",
      "[--------------------]  0% - ETA:180.0 min \n",
      "num files read in dir  /eos/project/d/dshep/TOPCLASS/DijetAnomaly/VAE_results/pt_normalized/training_without_pt_cut/RSGraviton_WW_NARROW_13TeV_PU40_4.5TeV :  100\n",
      "AtoHZ\n",
      "reading  /eos/project/d/dshep/TOPCLASS/DijetAnomaly/VAE_results/pt_normalized/training_without_pt_cut/AtoHZ_to_ZZZ_13TeV_PU40/\n",
      "num files in dir: 98\n",
      "Labels:\n",
      "[b'mJJ', b'j1Pt', b'j1Eta', b'j1Phi', b'j1M', b'j1E', b'j2Pt', b'j2M', b'j2E', b'DeltaEtaJJ', b'DeltaPhiJJ', b'j1TotalLoss', b'j1RecoLoss', b'j1KlLoss', b'j2TotalLoss', b'j2RecoLoss', b'j2KlLoss']\n",
      "[--------------------]  0% - ETA: 26.2 h   \n",
      "num files read in dir  /eos/project/d/dshep/TOPCLASS/DijetAnomaly/VAE_results/pt_normalized/training_without_pt_cut/AtoHZ_to_ZZZ_13TeV_PU40/ :  98\n",
      "GtoTTBroad\n",
      "reading  /eos/project/d/dshep/TOPCLASS/DijetAnomaly/VAE_results/pt_normalized/training_without_pt_cut/RSGraviton_tt_BROAD_13TeV_PU40\n",
      "num files in dir: 98\n",
      "Labels:\n",
      "[b'mJJ', b'j1Pt', b'j1Eta', b'j1Phi', b'j1M', b'j1E', b'j2Pt', b'j2M', b'j2E', b'DeltaEtaJJ', b'DeltaPhiJJ', b'j1TotalLoss', b'j1RecoLoss', b'j1KlLoss', b'j2TotalLoss', b'j2RecoLoss', b'j2KlLoss']\n",
      "[--------------------]  0% - ETA: 39.7 h   \n",
      "num files read in dir  /eos/project/d/dshep/TOPCLASS/DijetAnomaly/VAE_results/pt_normalized/training_without_pt_cut/RSGraviton_tt_BROAD_13TeV_PU40 :  98\n",
      "GtoTTNarr\n",
      "reading  /eos/project/d/dshep/TOPCLASS/DijetAnomaly/VAE_results/pt_normalized/training_without_pt_cut/RSGraviton_tt_NARROW_13TeV_PU40\n",
      "num files in dir: 96\n",
      "Labels:\n",
      "[b'mJJ', b'j1Pt', b'j1Eta', b'j1Phi', b'j1M', b'j1E', b'j2Pt', b'j2M', b'j2E', b'DeltaEtaJJ', b'DeltaPhiJJ', b'j1TotalLoss', b'j1RecoLoss', b'j1KlLoss', b'j2TotalLoss', b'j2RecoLoss', b'j2KlLoss']\n",
      "[--------------------]  0% - ETA: 24.2 h   \n",
      "num files read in dir  /eos/project/d/dshep/TOPCLASS/DijetAnomaly/VAE_results/pt_normalized/training_without_pt_cut/RSGraviton_tt_NARROW_13TeV_PU40 :  96\n"
     ]
    }
   ],
   "source": [
    "# read in data\n",
    "result_data = {}\n",
    "labels = None\n",
    "for n, file_dir in sample_loc.items():\n",
    "    print(n)\n",
    "    sample, labels = read_results_from_dir( file_dir )\n",
    "    result_data[n] = sample\n",
    "    sample_nGenEvts[n] = sample.shape[0]\n"
   ]
  },
  {
   "cell_type": "code",
   "execution_count": 4,
   "metadata": {},
   "outputs": [
    {
     "data": {
      "image/png": "[encoded data removed]",
      "text/plain": [
       "<Figure size 432x288 with 1 Axes>"
      ]
     },
     "metadata": {
      "needs_background": "light"
     },
     "output_type": "display_data"
    }
   ],
   "source": [
    "plt.figure()\n",
    "# x = result_data['GtoTTNarr']\n",
    "# plt.hist(x[:,0],bins=100)\n",
    "# plt.show()\n",
    "# print(x.shape)\n",
    "for dataset,file_dir in sample_loc.items():\n",
    "    x = result_data[dataset]\n",
    "    plt.hist(x[:,0],histtype='step',bins=100,label=dataset)\n",
    "plt.legend()\n",
    "plt.xlabel(r'$m_{JJ}$')\n",
    "plt.title('m_jj distribution signal datasets')\n",
    "#plt.yscale('log')\n",
    "plt.savefig(os.path.join('fig','signal_mjj_hist_linscale.png'))\n",
    "plt.show()\n",
    "plt.close()"
   ]
  },
  {
   "cell_type": "code",
   "execution_count": null,
   "metadata": {},
   "outputs": [],
   "source": []
  }
 ],
 "metadata": {
  "kernelspec": {
   "display_name": "Python 3",
   "language": "python",
   "name": "python3"
  },
  "language_info": {
   "codemirror_mode": {
    "name": "ipython",
    "version": 3
   },
   "file_extension": ".py",
   "mimetype": "text/x-python",
   "name": "python",
   "nbconvert_exporter": "python",
   "pygments_lexer": "ipython3",
   "version": "3.6.0"
  }
 },
 "nbformat": 4,
 "nbformat_minor": 2
}
