{
 "cells": [
  {
   "cell_type": "code",
   "execution_count": 1,
   "metadata": {},
   "outputs": [],
   "source": [
    "from reading_util import *\n",
    "from plotting_util import *"
   ]
  },
  {
   "cell_type": "code",
   "execution_count": 3,
   "metadata": {
    "collapsed": true
   },
   "outputs": [
    {
     "name": "stdout",
     "output_type": "stream",
     "text": [
      "GtoWW15\n",
      "reading  /eos/project/d/dshep/TOPCLASS/DijetAnomaly/VAE_results/pt_normalized/training_without_pt_cut/RSGraviton_WW_NARROW_13TeV_PU40_1.5TeV\n",
      "num files in dir: 98\n",
      "Labels:\n",
      "[b'mJJ', b'j1Pt', b'j1Eta', b'j1Phi', b'j1M', b'j1E', b'j2Pt', b'j2M', b'j2E', b'DeltaEtaJJ', b'DeltaPhiJJ', b'j1TotalLoss', b'j1RecoLoss', b'j1KlLoss', b'j2TotalLoss', b'j2RecoLoss', b'j2KlLoss']\n",
      "[--------------------]  0% - ETA:  6.9 h   \n",
      "num files read in dir  /eos/project/d/dshep/TOPCLASS/DijetAnomaly/VAE_results/pt_normalized/training_without_pt_cut/RSGraviton_WW_NARROW_13TeV_PU40_1.5TeV :  98\n",
      "GtoWW20\n",
      "reading  /eos/project/d/dshep/TOPCLASS/DijetAnomaly/VAE_results/pt_normalized/training_without_pt_cut/RSGraviton_WW_NARROW_13TeV_PU40_2.0TeV\n",
      "num files in dir: 100\n",
      "Labels:\n",
      "[b'mJJ', b'j1Pt', b'j1Eta', b'j1Phi', b'j1M', b'j1E', b'j2Pt', b'j2M', b'j2E', b'DeltaEtaJJ', b'DeltaPhiJJ', b'j1TotalLoss', b'j1RecoLoss', b'j1KlLoss', b'j2TotalLoss', b'j2RecoLoss', b'j2KlLoss']\n",
      "[--------------------]  0% - ETA:  4.9 h   \n",
      "num files read in dir  /eos/project/d/dshep/TOPCLASS/DijetAnomaly/VAE_results/pt_normalized/training_without_pt_cut/RSGraviton_WW_NARROW_13TeV_PU40_2.0TeV :  100\n",
      "GtoWW25\n",
      "reading  /eos/project/d/dshep/TOPCLASS/DijetAnomaly/VAE_results/pt_normalized/training_without_pt_cut/RSGraviton_WW_NARROW_13TeV_PU40_2.5TeV\n",
      "num files in dir: 100\n",
      "Labels:\n",
      "[b'mJJ', b'j1Pt', b'j1Eta', b'j1Phi', b'j1M', b'j1E', b'j2Pt', b'j2M', b'j2E', b'DeltaEtaJJ', b'DeltaPhiJJ', b'j1TotalLoss', b'j1RecoLoss', b'j1KlLoss', b'j2TotalLoss', b'j2RecoLoss', b'j2KlLoss']\n",
      "[--------------------]  0% - ETA:  6.7 h   \n",
      "num files read in dir  /eos/project/d/dshep/TOPCLASS/DijetAnomaly/VAE_results/pt_normalized/training_without_pt_cut/RSGraviton_WW_NARROW_13TeV_PU40_2.5TeV :  100\n",
      "GtoWW30\n",
      "reading  /eos/project/d/dshep/TOPCLASS/DijetAnomaly/VAE_results/pt_normalized/training_without_pt_cut/RSGraviton_WW_NARROW_13TeV_PU40_3.0TeV\n",
      "num files in dir: 100\n",
      "Labels:\n",
      "[b'mJJ', b'j1Pt', b'j1Eta', b'j1Phi', b'j1M', b'j1E', b'j2Pt', b'j2M', b'j2E', b'DeltaEtaJJ', b'DeltaPhiJJ', b'j1TotalLoss', b'j1RecoLoss', b'j1KlLoss', b'j2TotalLoss', b'j2RecoLoss', b'j2KlLoss']\n",
      "[--------------------]  0% - ETA:  4.9 h   \n",
      "num files read in dir  /eos/project/d/dshep/TOPCLASS/DijetAnomaly/VAE_results/pt_normalized/training_without_pt_cut/RSGraviton_WW_NARROW_13TeV_PU40_3.0TeV :  100\n",
      "GtoWW35\n",
      "reading  /eos/project/d/dshep/TOPCLASS/DijetAnomaly/VAE_results/pt_normalized/training_without_pt_cut/RSGraviton_WW_NARROW_13TeV_PU40_3.5TeV\n",
      "num files in dir: 100\n",
      "Labels:\n",
      "[b'mJJ', b'j1Pt', b'j1Eta', b'j1Phi', b'j1M', b'j1E', b'j2Pt', b'j2M', b'j2E', b'DeltaEtaJJ', b'DeltaPhiJJ', b'j1TotalLoss', b'j1RecoLoss', b'j1KlLoss', b'j2TotalLoss', b'j2RecoLoss', b'j2KlLoss']\n",
      "[--------------------]  0% - ETA:  4.5 h   \n",
      "num files read in dir  /eos/project/d/dshep/TOPCLASS/DijetAnomaly/VAE_results/pt_normalized/training_without_pt_cut/RSGraviton_WW_NARROW_13TeV_PU40_3.5TeV :  100\n",
      "GtoWW40\n",
      "reading  /eos/project/d/dshep/TOPCLASS/DijetAnomaly/VAE_results/pt_normalized/training_without_pt_cut/RSGraviton_WW_NARROW_13TeV_PU40_4.0TeV\n",
      "num files in dir: 100\n",
      "Labels:\n",
      "[b'mJJ', b'j1Pt', b'j1Eta', b'j1Phi', b'j1M', b'j1E', b'j2Pt', b'j2M', b'j2E', b'DeltaEtaJJ', b'DeltaPhiJJ', b'j1TotalLoss', b'j1RecoLoss', b'j1KlLoss', b'j2TotalLoss', b'j2RecoLoss', b'j2KlLoss']\n",
      "[--------------------]  0% - ETA:  4.0 h   \n",
      "num files read in dir  /eos/project/d/dshep/TOPCLASS/DijetAnomaly/VAE_results/pt_normalized/training_without_pt_cut/RSGraviton_WW_NARROW_13TeV_PU40_4.0TeV :  100\n",
      "GtoWW45\n",
      "reading  /eos/project/d/dshep/TOPCLASS/DijetAnomaly/VAE_results/pt_normalized/training_without_pt_cut/RSGraviton_WW_NARROW_13TeV_PU40_4.5TeV\n",
      "num files in dir: 100\n",
      "Labels:\n",
      "[b'mJJ', b'j1Pt', b'j1Eta', b'j1Phi', b'j1M', b'j1E', b'j2Pt', b'j2M', b'j2E', b'DeltaEtaJJ', b'DeltaPhiJJ', b'j1TotalLoss', b'j1RecoLoss', b'j1KlLoss', b'j2TotalLoss', b'j2RecoLoss', b'j2KlLoss']\n",
      "[--------------------]  0% - ETA:180.0 min \n",
      "num files read in dir  /eos/project/d/dshep/TOPCLASS/DijetAnomaly/VAE_results/pt_normalized/training_without_pt_cut/RSGraviton_WW_NARROW_13TeV_PU40_4.5TeV :  100\n",
      "AtoHZ\n",
      "reading  /eos/project/d/dshep/TOPCLASS/DijetAnomaly/VAE_results/pt_normalized/training_without_pt_cut/AtoHZ_to_ZZZ_13TeV_PU40/\n",
      "num files in dir: 98\n",
      "Labels:\n",
      "[b'mJJ', b'j1Pt', b'j1Eta', b'j1Phi', b'j1M', b'j1E', b'j2Pt', b'j2M', b'j2E', b'DeltaEtaJJ', b'DeltaPhiJJ', b'j1TotalLoss', b'j1RecoLoss', b'j1KlLoss', b'j2TotalLoss', b'j2RecoLoss', b'j2KlLoss']\n",
      "[--------------------]  0% - ETA: 26.2 h   \n",
      "num files read in dir  /eos/project/d/dshep/TOPCLASS/DijetAnomaly/VAE_results/pt_normalized/training_without_pt_cut/AtoHZ_to_ZZZ_13TeV_PU40/ :  98\n",
      "GtoTTBroad\n",
      "reading  /eos/project/d/dshep/TOPCLASS/DijetAnomaly/VAE_results/pt_normalized/training_without_pt_cut/RSGraviton_tt_BROAD_13TeV_PU40\n",
      "num files in dir: 98\n",
      "Labels:\n",
      "[b'mJJ', b'j1Pt', b'j1Eta', b'j1Phi', b'j1M', b'j1E', b'j2Pt', b'j2M', b'j2E', b'DeltaEtaJJ', b'DeltaPhiJJ', b'j1TotalLoss', b'j1RecoLoss', b'j1KlLoss', b'j2TotalLoss', b'j2RecoLoss', b'j2KlLoss']\n",
      "[--------------------]  0% - ETA: 39.7 h   \n",
      "num files read in dir  /eos/project/d/dshep/TOPCLASS/DijetAnomaly/VAE_results/pt_normalized/training_without_pt_cut/RSGraviton_tt_BROAD_13TeV_PU40 :  98\n",
      "GtoTTNarr\n",
      "reading  /eos/project/d/dshep/TOPCLASS/DijetAnomaly/VAE_results/pt_normalized/training_without_pt_cut/RSGraviton_tt_NARROW_13TeV_PU40\n",
      "num files in dir: 96\n",
      "Labels:\n",
      "[b'mJJ', b'j1Pt', b'j1Eta', b'j1Phi', b'j1M', b'j1E', b'j2Pt', b'j2M', b'j2E', b'DeltaEtaJJ', b'DeltaPhiJJ', b'j1TotalLoss', b'j1RecoLoss', b'j1KlLoss', b'j2TotalLoss', b'j2RecoLoss', b'j2KlLoss']\n",
      "[--------------------]  0% - ETA: 24.2 h   \n",
      "num files read in dir  /eos/project/d/dshep/TOPCLASS/DijetAnomaly/VAE_results/pt_normalized/training_without_pt_cut/RSGraviton_tt_NARROW_13TeV_PU40 :  96\n"
     ]
    }
   ],
   "source": [
    "# read in data\n",
    "result_data = {}\n",
    "labels = None\n",
    "for n, file_dir in sample_loc.items():\n",
    "    print(n)\n",
    "    sample, labels = read_results_from_dir( file_dir )\n",
    "    result_data[n] = sample\n",
    "    sample_nGenEvts[n] = sample.shape[0]\n"
   ]
  },
  {
   "cell_type": "code",
   "execution_count": 4,
   "metadata": {},
   "outputs": [
    {
     "data": {
      "image/png": "[encoded data removed]",
      "text/plain": [
       "<Figure size 432x288 with 1 Axes>"
      ]
     },
     "metadata": {
      "needs_background": "light"
     },
     "output_type": "display_data"
    }
   ],
   "source": [
    "plt.figure()\n",
    "# x = result_data['GtoTTNarr']\n",
    "# plt.hist(x[:,0],bins=100)\n",
    "# plt.show()\n",
    "# print(x.shape)\n",
    "for dataset,file_dir in sample_loc.items():\n",
    "    x = result_data[dataset]\n",
    "    plt.hist(x[:,0],histtype='step',bins=100,label=dataset)\n",
    "plt.legend()\n",
    "plt.xlabel(r'$m_{JJ}$')\n",
    "plt.title('m_jj distribution signal datasets')\n",
    "#plt.yscale('log')\n",
    "plt.savefig(os.path.join('fig','signal_mjj_hist_linscale.png'))\n",
    "plt.show()\n",
    "plt.close()"
   ]
  },
  {
   "cell_type": "markdown",
   "metadata": {},
   "source": [
    "# concat qcd total result data from concatenated inputs"
   ]
  },
  {
   "cell_type": "code",
   "execution_count": 1,
   "metadata": {},
   "outputs": [],
   "source": [
    "import reading_util as ru\n",
    "import string_constants as sc\n",
    "import os"
   ]
  },
  {
   "cell_type": "code",
   "execution_count": 2,
   "metadata": {},
   "outputs": [],
   "source": [
    "qcd_sig_path = os.path.join( sc.concat_result_dir, sc.sample_loc['qcdSig'] + sc.concat_result_suffix )\n",
    "qcd_sig_data, labels = ru.read_results( qcd_sig_path )"
   ]
  },
  {
   "cell_type": "code",
   "execution_count": 3,
   "metadata": {},
   "outputs": [],
   "source": [
    "qcd_sig_bis_path = os.path.join( sc.concat_result_dir, sc.sample_loc['qcdSigBis'] + sc.concat_result_suffix )\n",
    "qcd_sig_bis_data, labels = ru.read_results( qcd_sig_bis_path )"
   ]
  },
  {
   "cell_type": "code",
   "execution_count": 7,
   "metadata": {},
   "outputs": [
    {
     "name": "stdout",
     "output_type": "stream",
     "text": [
      "(4623774, 17)\n",
      "(645787, 17)\n",
      "5269561\n"
     ]
    }
   ],
   "source": [
    "print(qcd_sig_data.shape)\n",
    "print(qcd_sig_bis_data.shape)\n",
    "print(qcd_sig_data.shape[0] + qcd_sig_bis_data.shape[0])"
   ]
  },
  {
   "cell_type": "code",
   "execution_count": 8,
   "metadata": {},
   "outputs": [
    {
     "data": {
      "text/plain": [
       "(5269561, 17)"
      ]
     },
     "execution_count": 8,
     "metadata": {},
     "output_type": "execute_result"
    }
   ],
   "source": [
    "import numpy as np\n",
    "qcd_total = np.vstack([qcd_sig_data,qcd_sig_bis_data])\n",
    "qcd_total.shape"
   ]
  },
  {
   "cell_type": "code",
   "execution_count": 12,
   "metadata": {},
   "outputs": [],
   "source": [
    "import writing_util as wu\n",
    "reload(sc)\n",
    "out_path = os.path.join( sc.concat_result_dir, sc.sample_loc['qcdSigAll'] + sc.concat_result_suffix ) \n",
    "dataset_names = ['results','labels']\n",
    "wu.write_data_to_file( [qcd_total, labels], dataset_names, out_path )"
   ]
  },
  {
   "cell_type": "markdown",
   "metadata": {},
   "source": [
    "## plot efficiency ration S / sqrt( B )"
   ]
  },
  {
   "cell_type": "code",
   "execution_count": 23,
   "metadata": {},
   "outputs": [],
   "source": [
    "import numpy as np\n",
    "import matplotlib.pyplot as plt\n",
    "\n",
    "xx = np.arange(0.01,1.0,0.01)"
   ]
  },
  {
   "cell_type": "code",
   "execution_count": 24,
   "metadata": {},
   "outputs": [
    {
     "data": {
      "image/png": "[encoded data removed]",
      "text/plain": [
       "<matplotlib.figure.Figure at 0x7f2b3d1c6550>"
      ]
     },
     "metadata": {},
     "output_type": "display_data"
    }
   ],
   "source": [
    "plt.plot(xx,np.sqrt(xx))\n",
    "plt.plot(xx,xx)\n",
    "plt.plot(xx,xx**2)\n",
    "plt.grid()"
   ]
  },
  {
   "cell_type": "code",
   "execution_count": 26,
   "metadata": {},
   "outputs": [
    {
     "data": {
      "image/png": "[encoded data removed]",
      "text/plain": [
       "<matplotlib.figure.Figure at 0x7f2b3cf96b10>"
      ]
     },
     "metadata": {},
     "output_type": "display_data"
    }
   ],
   "source": [
    "plt.figure()\n",
    "plt.plot(xx, np.sqrt(xx)/xx,label='sqr(B)/B')\n",
    "plt.plot(xx, np.sqrt(xx),label='sqr(B)')\n",
    "plt.legend()\n",
    "plt.grid()"
   ]
  },
  {
   "cell_type": "code",
   "execution_count": 20,
   "metadata": {
    "collapsed": true
   },
   "outputs": [
    {
     "data": {
      "text/plain": [
       "array([0.01      , 0.10049876, 0.14177447, 0.17349352, 0.20024984,\n",
       "       0.22383029, 0.24515301, 0.26476405, 0.28301943, 0.30016662,\n",
       "       0.31638584, 0.3318132 , 0.34655447, 0.36069378, 0.37429935,\n",
       "       0.38742741, 0.40012498, 0.41243181, 0.4243819 , 0.43600459,\n",
       "       0.44732538, 0.45836667, 0.46914816, 0.4796874 , 0.49      ,\n",
       "       0.50009999, 0.51      , 0.51971146, 0.52924474, 0.53860932,\n",
       "       0.54781384, 0.55686623, 0.56577381, 0.5745433 , 0.58318093,\n",
       "       0.59169249, 0.60008333, 0.60835845, 0.61652251, 0.62457986,\n",
       "       0.63253458, 0.64039051, 0.64815122, 0.6558201 , 0.66340033,\n",
       "       0.67089492, 0.67830672, 0.68563839, 0.69289249, 0.70007142,\n",
       "       0.70717749, 0.71421285, 0.72117959, 0.72807967, 0.73491496,\n",
       "       0.74168727, 0.74839829, 0.75504967, 0.76164296, 0.76817967,\n",
       "       0.77466122, 0.78108898, 0.78746428, 0.79378838, 0.8000625 ,\n",
       "       0.80628779, 0.81246538, 0.81859636, 0.82468176, 0.83072258,\n",
       "       0.83671979, 0.84267431, 0.84858706, 0.85445889, 0.86029065,\n",
       "       0.86608314, 0.87183714, 0.87755342, 0.8832327 , 0.88887569,\n",
       "       0.89448309, 0.90005555, 0.90559373, 0.91109824, 0.91656969,\n",
       "       0.92200868, 0.92741576, 0.93279151, 0.93813645, 0.94345111,\n",
       "       0.948736  , 0.95399161, 0.95921843, 0.96441692, 0.96958754,\n",
       "       0.97473073, 0.97984693, 0.98493655, 0.99      , 0.99503769])"
      ]
     },
     "execution_count": 20,
     "metadata": {},
     "output_type": "execute_result"
    }
   ],
   "source": [
    "np.sqrt(xx)"
   ]
  },
  {
   "cell_type": "code",
   "execution_count": 21,
   "metadata": {
    "collapsed": true
   },
   "outputs": [
    {
     "data": {
      "text/plain": [
       "array([1.000e-04, 1.010e-02, 2.010e-02, 3.010e-02, 4.010e-02, 5.010e-02,\n",
       "       6.010e-02, 7.010e-02, 8.010e-02, 9.010e-02, 1.001e-01, 1.101e-01,\n",
       "       1.201e-01, 1.301e-01, 1.401e-01, 1.501e-01, 1.601e-01, 1.701e-01,\n",
       "       1.801e-01, 1.901e-01, 2.001e-01, 2.101e-01, 2.201e-01, 2.301e-01,\n",
       "       2.401e-01, 2.501e-01, 2.601e-01, 2.701e-01, 2.801e-01, 2.901e-01,\n",
       "       3.001e-01, 3.101e-01, 3.201e-01, 3.301e-01, 3.401e-01, 3.501e-01,\n",
       "       3.601e-01, 3.701e-01, 3.801e-01, 3.901e-01, 4.001e-01, 4.101e-01,\n",
       "       4.201e-01, 4.301e-01, 4.401e-01, 4.501e-01, 4.601e-01, 4.701e-01,\n",
       "       4.801e-01, 4.901e-01, 5.001e-01, 5.101e-01, 5.201e-01, 5.301e-01,\n",
       "       5.401e-01, 5.501e-01, 5.601e-01, 5.701e-01, 5.801e-01, 5.901e-01,\n",
       "       6.001e-01, 6.101e-01, 6.201e-01, 6.301e-01, 6.401e-01, 6.501e-01,\n",
       "       6.601e-01, 6.701e-01, 6.801e-01, 6.901e-01, 7.001e-01, 7.101e-01,\n",
       "       7.201e-01, 7.301e-01, 7.401e-01, 7.501e-01, 7.601e-01, 7.701e-01,\n",
       "       7.801e-01, 7.901e-01, 8.001e-01, 8.101e-01, 8.201e-01, 8.301e-01,\n",
       "       8.401e-01, 8.501e-01, 8.601e-01, 8.701e-01, 8.801e-01, 8.901e-01,\n",
       "       9.001e-01, 9.101e-01, 9.201e-01, 9.301e-01, 9.401e-01, 9.501e-01,\n",
       "       9.601e-01, 9.701e-01, 9.801e-01, 9.901e-01])"
      ]
     },
     "execution_count": 21,
     "metadata": {},
     "output_type": "execute_result"
    }
   ],
   "source": [
    "xx"
   ]
  },
  {
   "cell_type": "code",
   "execution_count": 19,
   "metadata": {
    "collapsed": true
   },
   "outputs": [
    {
     "data": {
      "text/plain": [
       "array([ 0.00000000e+00, -1.38777878e-17,  2.77555756e-17, -2.77555756e-17,\n",
       "        0.00000000e+00,  0.00000000e+00,  2.77555756e-17,  0.00000000e+00,\n",
       "        5.55111512e-17,  5.55111512e-17,  0.00000000e+00,  5.55111512e-17,\n",
       "       -5.55111512e-17, -5.55111512e-17,  0.00000000e+00, -5.55111512e-17,\n",
       "        0.00000000e+00, -5.55111512e-17, -5.55111512e-17,  0.00000000e+00,\n",
       "        0.00000000e+00,  5.55111512e-17,  5.55111512e-17,  5.55111512e-17,\n",
       "        0.00000000e+00,  1.11022302e-16,  0.00000000e+00, -1.11022302e-16,\n",
       "        1.11022302e-16,  0.00000000e+00,  0.00000000e+00, -1.11022302e-16,\n",
       "        0.00000000e+00, -1.11022302e-16,  0.00000000e+00,  1.11022302e-16,\n",
       "       -1.11022302e-16, -1.11022302e-16, -1.11022302e-16,  1.11022302e-16,\n",
       "        1.11022302e-16, -1.11022302e-16,  0.00000000e+00,  0.00000000e+00,\n",
       "        0.00000000e+00,  0.00000000e+00, -1.11022302e-16, -1.11022302e-16,\n",
       "        1.11022302e-16,  0.00000000e+00,  0.00000000e+00,  1.11022302e-16,\n",
       "        1.11022302e-16,  0.00000000e+00,  0.00000000e+00, -1.11022302e-16,\n",
       "       -1.11022302e-16,  0.00000000e+00,  1.11022302e-16, -1.11022302e-16,\n",
       "       -1.11022302e-16, -1.11022302e-16,  0.00000000e+00,  1.11022302e-16,\n",
       "        0.00000000e+00, -1.11022302e-16,  0.00000000e+00,  1.11022302e-16,\n",
       "        0.00000000e+00, -1.11022302e-16,  1.11022302e-16, -1.11022302e-16,\n",
       "        1.11022302e-16,  1.11022302e-16,  0.00000000e+00,  0.00000000e+00,\n",
       "        0.00000000e+00,  1.11022302e-16,  0.00000000e+00,  0.00000000e+00,\n",
       "        1.11022302e-16,  0.00000000e+00,  0.00000000e+00,  1.11022302e-16,\n",
       "        1.11022302e-16,  0.00000000e+00,  0.00000000e+00,  1.11022302e-16,\n",
       "        0.00000000e+00,  0.00000000e+00,  0.00000000e+00, -1.11022302e-16,\n",
       "        1.11022302e-16,  0.00000000e+00,  1.11022302e-16,  1.11022302e-16,\n",
       "        0.00000000e+00,  0.00000000e+00,  0.00000000e+00,  1.11022302e-16])"
      ]
     },
     "execution_count": 19,
     "metadata": {},
     "output_type": "execute_result"
    }
   ],
   "source": [
    "xx/np.sqrt(xx)"
   ]
  },
  {
   "cell_type": "code",
   "execution_count": 58,
   "metadata": {},
   "outputs": [],
   "source": [
    "e_s = e_b = np.linspace(0.01,0.8,100)"
   ]
  },
  {
   "cell_type": "code",
   "execution_count": 59,
   "metadata": {},
   "outputs": [],
   "source": [
    "z = [ s / np.sqrt(b) for s in e_s for b in e_b]"
   ]
  },
  {
   "cell_type": "code",
   "execution_count": 60,
   "metadata": {},
   "outputs": [],
   "source": [
    "X, Y = np.meshgrid(e_b,e_s)"
   ]
  },
  {
   "cell_type": "code",
   "execution_count": 61,
   "metadata": {},
   "outputs": [
    {
     "data": {
      "text/plain": [
       "(100, 100)"
      ]
     },
     "execution_count": 61,
     "metadata": {},
     "output_type": "execute_result"
    }
   ],
   "source": [
    "X.shape"
   ]
  },
  {
   "cell_type": "code",
   "execution_count": 62,
   "metadata": {},
   "outputs": [],
   "source": [
    "Z = np.asarray(z).reshape(X.shape)"
   ]
  },
  {
   "cell_type": "code",
   "execution_count": 63,
   "metadata": {},
   "outputs": [
    {
     "data": {
      "text/plain": [
       "<matplotlib.colorbar.Colorbar at 0x7f2b3c7aedd0>"
      ]
     },
     "execution_count": 63,
     "metadata": {},
     "output_type": "execute_result"
    },
    {
     "data": {
      "image/png": "[encoded data removed]",
      "text/plain": [
       "<matplotlib.figure.Figure at 0x7f2b3d232190>"
      ]
     },
     "metadata": {},
     "output_type": "display_data"
    }
   ],
   "source": [
    "from matplotlib.colors import LogNorm\n",
    "plt.contourf(X,Y,Z)\n",
    "#plt.plot(e_b,e_s**2)\n",
    "plt.colorbar()"
   ]
  },
  {
   "cell_type": "markdown",
   "metadata": {},
   "source": [
    "# read input file"
   ]
  },
  {
   "cell_type": "code",
   "execution_count": 18,
   "metadata": {},
   "outputs": [
    {
     "name": "stdout",
     "output_type": "stream",
     "text": [
      "qcd_sqrtshatTeV_13TeV_PU40_101.h5: 58218 events\n",
      "qcd_sqrtshatTeV_13TeV_PU40_102.h5: 58277 events\n",
      "qcd_sqrtshatTeV_13TeV_PU40_103.h5: 8098 events\n",
      "qcd_sqrtshatTeV_13TeV_PU40_104.h5: 58374 events\n",
      "qcd_sqrtshatTeV_13TeV_PU40_105.h5: 39810 events\n",
      "qcd_sqrtshatTeV_13TeV_PU40_107.h5: 58352 events\n",
      "qcd_sqrtshatTeV_13TeV_PU40_109.h5: 57858 events\n",
      "qcd_sqrtshatTeV_13TeV_PU40_110.h5: 282 events\n",
      "qcd_sqrtshatTeV_13TeV_PU40_112.h5: 58067 events\n",
      "qcd_sqrtshatTeV_13TeV_PU40_114.h5: 57982 events\n",
      "qcd_sqrtshatTeV_13TeV_PU40_115.h5: 58183 events\n",
      "qcd_sqrtshatTeV_13TeV_PU40_116.h5: 58186 events\n",
      "qcd_sqrtshatTeV_13TeV_PU40_118.h5: 58181 events\n",
      "qcd_sqrtshatTeV_13TeV_PU40_119.h5: 58129 events\n",
      "qcd_sqrtshatTeV_13TeV_PU40_120.h5: 58177 events\n",
      "qcd_sqrtshatTeV_13TeV_PU40_121.h5: 57936 events\n",
      "qcd_sqrtshatTeV_13TeV_PU40_123.h5: 57927 events\n",
      "qcd_sqrtshatTeV_13TeV_PU40_124.h5: 58082 events\n",
      "qcd_sqrtshatTeV_13TeV_PU40_125.h5: 58249 events\n",
      "qcd_sqrtshatTeV_13TeV_PU40_126.h5: 57968 events\n",
      "qcd_sqrtshatTeV_13TeV_PU40_127.h5: 57837 events\n",
      "qcd_sqrtshatTeV_13TeV_PU40_128.h5: 58105 events\n",
      "qcd_sqrtshatTeV_13TeV_PU40_129.h5: 58186 events\n",
      "qcd_sqrtshatTeV_13TeV_PU40_130.h5: 57886 events\n",
      "qcd_sqrtshatTeV_13TeV_PU40_131.h5: 58088 events\n",
      "qcd_sqrtshatTeV_13TeV_PU40_132.h5: 57867 events\n",
      "qcd_sqrtshatTeV_13TeV_PU40_133.h5: 57934 events\n",
      "qcd_sqrtshatTeV_13TeV_PU40_134.h5: 58074 events\n",
      "qcd_sqrtshatTeV_13TeV_PU40_135.h5: 57869 events\n",
      "qcd_sqrtshatTeV_13TeV_PU40_136.h5: 58215 events\n",
      "qcd_sqrtshatTeV_13TeV_PU40_137.h5: 58168 events\n",
      "qcd_sqrtshatTeV_13TeV_PU40_138.h5: 58396 events\n",
      "qcd_sqrtshatTeV_13TeV_PU40_139.h5: 58403 events\n",
      "qcd_sqrtshatTeV_13TeV_PU40_140.h5: 58057 events\n",
      "qcd_sqrtshatTeV_13TeV_PU40_141.h5: 20190 events\n",
      "qcd_sqrtshatTeV_13TeV_PU40_142.h5: 58089 events\n",
      "qcd_sqrtshatTeV_13TeV_PU40_143.h5: 58489 events\n",
      "qcd_sqrtshatTeV_13TeV_PU40_144.h5: 58395 events\n",
      "qcd_sqrtshatTeV_13TeV_PU40_145.h5: 58090 events\n",
      "qcd_sqrtshatTeV_13TeV_PU40_147.h5: 58100 events\n",
      "qcd_sqrtshatTeV_13TeV_PU40_148.h5: 57818 events\n",
      "qcd_sqrtshatTeV_13TeV_PU40_149.h5: 58171 events\n",
      "qcd_sqrtshatTeV_13TeV_PU40_150.h5: 58098 events\n",
      "qcd_sqrtshatTeV_13TeV_PU40_151.h5: 57858 events\n",
      "qcd_sqrtshatTeV_13TeV_PU40_152.h5: 58145 events\n",
      "qcd_sqrtshatTeV_13TeV_PU40_153.h5: 57914 events\n",
      "qcd_sqrtshatTeV_13TeV_PU40_154.h5: 58216 events\n",
      "qcd_sqrtshatTeV_13TeV_PU40_155.h5: 58154 events\n",
      "qcd_sqrtshatTeV_13TeV_PU40_156.h5: 58360 events\n",
      "qcd_sqrtshatTeV_13TeV_PU40_157.h5: 7067 events\n",
      "qcd_sqrtshatTeV_13TeV_PU40_158.h5: 22042 events\n",
      "qcd_sqrtshatTeV_13TeV_PU40_159.h5: 19320 events\n",
      "qcd_sqrtshatTeV_13TeV_PU40_160.h5: 58045 events\n",
      "qcd_sqrtshatTeV_13TeV_PU40_161.h5: 58105 events\n",
      "qcd_sqrtshatTeV_13TeV_PU40_162.h5: 58079 events\n",
      "qcd_sqrtshatTeV_13TeV_PU40_163.h5: 58089 events\n",
      "qcd_sqrtshatTeV_13TeV_PU40_164.h5: 58010 events\n",
      "qcd_sqrtshatTeV_13TeV_PU40_165.h5: 58005 events\n",
      "qcd_sqrtshatTeV_13TeV_PU40_166.h5: 58029 events\n",
      "qcd_sqrtshatTeV_13TeV_PU40_167.h5: 58027 events\n",
      "qcd_sqrtshatTeV_13TeV_PU40_168.h5: 40862 events\n",
      "qcd_sqrtshatTeV_13TeV_PU40_170.h5: 57878 events\n",
      "qcd_sqrtshatTeV_13TeV_PU40_171.h5: 58123 events\n",
      "qcd_sqrtshatTeV_13TeV_PU40_172.h5: 58122 events\n",
      "qcd_sqrtshatTeV_13TeV_PU40_173.h5: 2587 events\n",
      "qcd_sqrtshatTeV_13TeV_PU40_174.h5: 58162 events\n",
      "qcd_sqrtshatTeV_13TeV_PU40_176.h5: 58182 events\n",
      "qcd_sqrtshatTeV_13TeV_PU40_178.h5: 58133 events\n",
      "qcd_sqrtshatTeV_13TeV_PU40_179.h5: 57986 events\n",
      "qcd_sqrtshatTeV_13TeV_PU40_180.h5: 58058 events\n",
      "qcd_sqrtshatTeV_13TeV_PU40_181.h5: 58045 events\n",
      "qcd_sqrtshatTeV_13TeV_PU40_182.h5: 58140 events\n",
      "qcd_sqrtshatTeV_13TeV_PU40_183.h5: 57876 events\n",
      "qcd_sqrtshatTeV_13TeV_PU40_184.h5: 58019 events\n",
      "qcd_sqrtshatTeV_13TeV_PU40_185.h5: 58081 events\n",
      "qcd_sqrtshatTeV_13TeV_PU40_186.h5: 58429 events\n",
      "qcd_sqrtshatTeV_13TeV_PU40_187.h5: 58061 events\n",
      "qcd_sqrtshatTeV_13TeV_PU40_188.h5: 58210 events\n",
      "qcd_sqrtshatTeV_13TeV_PU40_189.h5: 2325 events\n",
      "qcd_sqrtshatTeV_13TeV_PU40_190.h5: 57950 events\n",
      "qcd_sqrtshatTeV_13TeV_PU40_191.h5: 57965 events\n",
      "qcd_sqrtshatTeV_13TeV_PU40_192.h5: 57994 events\n",
      "qcd_sqrtshatTeV_13TeV_PU40_193.h5: 58035 events\n",
      "qcd_sqrtshatTeV_13TeV_PU40_194.h5: 58151 events\n",
      "qcd_sqrtshatTeV_13TeV_PU40_195.h5: 17753 events\n",
      "qcd_sqrtshatTeV_13TeV_PU40_196.h5: 58021 events\n",
      "qcd_sqrtshatTeV_13TeV_PU40_197.h5: 58064 events\n",
      "qcd_sqrtshatTeV_13TeV_PU40_198.h5: 57974 events\n",
      "qcd_sqrtshatTeV_13TeV_PU40_199.h5: 58281 events\n"
     ]
    }
   ],
   "source": [
    "import reading_util as ru\n",
    "import os\n",
    "reload(ru)\n",
    "for n in range(100,200+1):\n",
    "    base = '/eos/project-d/dshep/TOPCLASS/DijetAnomaly/qcd_sqrtshatTeV_13TeV_PU40/'\n",
    "    ff = 'qcd_sqrtshatTeV_13TeV_PU40_'+str(n)+'.h5'\n",
    "    if os.path.isfile( base+ff ):\n",
    "        dat, labels = ru.read_dijet_features( base+ff )\n",
    "        print('{}: {} events'.format(ff,dat.shape[0],'events'))"
   ]
  },
  {
   "cell_type": "code",
   "execution_count": null,
   "metadata": {},
   "outputs": [],
   "source": []
  }
 ],
 "metadata": {
  "kernelspec": {
   "display_name": "Python 3",
   "language": "python",
   "name": "python3"
  },
  "language_info": {
   "codemirror_mode": {
    "name": "ipython",
    "version": 2
   },
   "file_extension": ".py",
   "mimetype": "text/x-python",
   "name": "python",
   "nbconvert_exporter": "python",
   "pygments_lexer": "ipython2",
   "version": "2.7.14+"
  }
 },
 "nbformat": 4,
 "nbformat_minor": 2
}
