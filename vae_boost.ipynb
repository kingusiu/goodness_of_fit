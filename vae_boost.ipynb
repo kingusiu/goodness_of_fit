{
 "cells": [
  {
   "cell_type": "code",
   "execution_count": 1,
   "metadata": {},
   "outputs": [],
   "source": [
    "import os\n",
    "import numpy as np\n",
    "import matplotlib.pyplot as plt\n",
    "import datetime\n",
    "import h5py"
   ]
  },
  {
   "cell_type": "code",
   "execution_count": 2,
   "metadata": {},
   "outputs": [
    {
     "name": "stderr",
     "output_type": "stream",
     "text": [
      "Using TensorFlow backend.\n"
     ]
    }
   ],
   "source": [
    "import string_constants as sc\n",
    "import reading_util as ru\n",
    "import dataset_util as du\n",
    "import parameter as pa\n",
    "import quantile_regression_dnn as qr\n",
    "import data_sample as ds\n",
    "import plotting_util as pu\n",
    "import flat_cut as fc"
   ]
  },
  {
   "cell_type": "markdown",
   "metadata": {},
   "source": [
    "# runtime parameters"
   ]
  },
  {
   "cell_type": "code",
   "execution_count": 3,
   "metadata": {},
   "outputs": [],
   "source": [
    "# share of total qcd signal region data for QR training (rest for GOF test)\n",
    "QR_train_share = 0.25 #0.2\n",
    "# constant fraction wrt dijet mass of BG accepted\n",
    "quantile = pa.quantile_dict['q1'] # q1 = 1%\n",
    "# strategy for combining loss-jet-1 and loss-jet-2\n",
    "strategy = pa.loss_strategy_dict['s5'] # s5 = L1 & L2"
   ]
  },
  {
   "cell_type": "markdown",
   "metadata": {},
   "source": [
    "# read in data (qcd and signal)"
   ]
  },
  {
   "cell_type": "code",
   "execution_count": 4,
   "metadata": {},
   "outputs": [],
   "source": [
    "SM_sample = 'qcdSigAll'\n",
    "qcd_path = os.path.join( sc.concat_result_dir, sc.sample_loc[SM_sample] + sc.concat_result_suffix )\n",
    "qcd_data_total = ru.read_results_to_dataframe( qcd_path )"
   ]
  },
  {
   "cell_type": "code",
   "execution_count": 5,
   "metadata": {},
   "outputs": [],
   "source": [
    "BSM_sample = 'GtoWW30na'\n",
    "signal_path = os.path.join( sc.concat_result_dir, sc.sample_loc[BSM_sample] + sc.concat_result_suffix )\n",
    "signal_sample_data = ru.read_results_to_dataframe( signal_path )"
   ]
  },
  {
   "cell_type": "markdown",
   "metadata": {},
   "source": [
    "## split qcd data into train and test set "
   ]
  },
  {
   "cell_type": "code",
   "execution_count": 6,
   "metadata": {},
   "outputs": [],
   "source": [
    "qcd_data_train, qcd_data_test = du.split_dataset_train_test( qcd_data_total, QR_train_share )"
   ]
  },
  {
   "cell_type": "markdown",
   "metadata": {},
   "source": [
    "# Selector"
   ]
  },
  {
   "cell_type": "code",
   "execution_count": null,
   "metadata": {},
   "outputs": [],
   "source": [
    "combined_loss = strategy( qcd_data_train )\n",
    "selector = QuantileRegressionOverflowBinSelector( quantile.val )\n",
    "selector.fit( qcd_data_train['mJJ'].values, combined_loss )"
   ]
  },
  {
   "cell_type": "markdown",
   "metadata": {},
   "source": [
    "# Train QR DNN"
   ]
  },
  {
   "cell_type": "code",
   "execution_count": 7,
   "metadata": {},
   "outputs": [
    {
     "name": "stdout",
     "output_type": "stream",
     "text": [
      "_________________________________________________________________\n",
      "Layer (type)                 Output Shape              Param #   \n",
      "=================================================================\n",
      "input_1 (InputLayer)         (None, 1)                 0         \n",
      "_________________________________________________________________\n",
      "dense_1 (Dense)              (None, 100)               200       \n",
      "_________________________________________________________________\n",
      "dense_2 (Dense)              (None, 100)               10100     \n",
      "_________________________________________________________________\n",
      "dense_3 (Dense)              (None, 100)               10100     \n",
      "_________________________________________________________________\n",
      "dense_4 (Dense)              (None, 100)               10100     \n",
      "_________________________________________________________________\n",
      "dense_5 (Dense)              (None, 100)               10100     \n",
      "_________________________________________________________________\n",
      "dense_6 (Dense)              (None, 1)                 101       \n",
      "=================================================================\n",
      "Total params: 40,701\n",
      "Trainable params: 40,701\n",
      "Non-trainable params: 0\n",
      "_________________________________________________________________\n",
      "\n",
      "Epoch 00005: ReduceLROnPlateau reducing learning rate to 1.99999994948e-05.\n",
      "\n",
      "Epoch 00008: ReduceLROnPlateau reducing learning rate to 3.99999989895e-06.\n",
      "\n",
      "Epoch 00011: ReduceLROnPlateau reducing learning rate to 7.9999999798e-07.\n",
      "Epoch 00011: early stopping\n"
     ]
    }
   ],
   "source": [
    "# train QR\n",
    "combined_loss = strategy( qcd_data_train )\n",
    "model = qr.Quantile_Regression( quantile.val )\n",
    "model.fit( qcd_data_train['mJJ'].values, combined_loss )"
   ]
  },
  {
   "cell_type": "markdown",
   "metadata": {},
   "source": [
    "## get regression cut point"
   ]
  },
  {
   "cell_type": "code",
   "execution_count": 8,
   "metadata": {},
   "outputs": [],
   "source": [
    "# get overflow bin (max accepted mjj) for regression cut\n",
    "sel = model.select_events( qcd_data_train['mJJ'].values, combined_loss ) # get selection for qcd training set\n",
    "max_acc_mjj = np.max(qcd_data_train['mJJ'][sel]) # get max mjj in accepted set"
   ]
  },
  {
   "cell_type": "markdown",
   "metadata": {},
   "source": [
    "# OR(!) use Flat Cut"
   ]
  },
  {
   "cell_type": "code",
   "execution_count": 61,
   "metadata": {},
   "outputs": [],
   "source": [
    "reload(fc)\n",
    "combined_loss = strategy( qcd_data_train )\n",
    "model = fc.FlatCut( quantile.val )\n",
    "model.fit( combined_loss )"
   ]
  },
  {
   "cell_type": "markdown",
   "metadata": {},
   "source": [
    "# VAE Boost"
   ]
  },
  {
   "cell_type": "markdown",
   "metadata": {},
   "source": [
    "## get selection for qcd sample"
   ]
  },
  {
   "cell_type": "code",
   "execution_count": 62,
   "metadata": {},
   "outputs": [],
   "source": [
    "qcd_sample = ds.DataSample( 'qcdTest', qcd_data_test )\n",
    "qcd_sample.add_feature('combiLoss', strategy( qcd_data_test ))"
   ]
  },
  {
   "cell_type": "code",
   "execution_count": 63,
   "metadata": {},
   "outputs": [],
   "source": [
    "#qcd_selection = model.select_events_regression_cut( qcd_sample['mJJ'].values, qcd_sample['combiLoss'].values, max_acc_mjj )\n",
    "# OR (flat cut)\n",
    "qcd_selection = model.select_events( qcd_sample['combiLoss'].values )"
   ]
  },
  {
   "cell_type": "code",
   "execution_count": 64,
   "metadata": {},
   "outputs": [],
   "source": [
    "qcd_sample.add_feature('sel',qcd_selection)"
   ]
  },
  {
   "cell_type": "markdown",
   "metadata": {},
   "source": [
    "## get selection for signal sample"
   ]
  },
  {
   "cell_type": "code",
   "execution_count": 65,
   "metadata": {},
   "outputs": [],
   "source": [
    "signal_sample = ds.DataSample( BSM_sample, signal_sample_data )\n",
    "signal_sample.add_feature('combiLoss', strategy( signal_sample_data ) )"
   ]
  },
  {
   "cell_type": "code",
   "execution_count": 66,
   "metadata": {},
   "outputs": [],
   "source": [
    "#signal_selection = model.select_events_regression_cut( signal_sample['mJJ'].values, signal_sample['combiLoss'].values, max_acc_mjj )\n",
    "# OR (flat cut)\n",
    "signal_selection = model.select_events( signal_sample['combiLoss'].values )"
   ]
  },
  {
   "cell_type": "code",
   "execution_count": 67,
   "metadata": {},
   "outputs": [],
   "source": [
    "signal_sample.add_feature('sel', signal_selection)"
   ]
  },
  {
   "cell_type": "markdown",
   "metadata": {},
   "source": [
    "# Binning for bump hunt"
   ]
  },
  {
   "cell_type": "code",
   "execution_count": 68,
   "metadata": {},
   "outputs": [],
   "source": [
    "def get_bin_counts_total_acc_rej( boosted_sample, bin_edges ):\n",
    "    accepted = boosted_sample[ boosted_sample['sel'] ]\n",
    "    rejected = boosted_sample[ ~boosted_sample['sel'] ]\n",
    "    tot_count, _ = np.histogram( boosted_sample['mJJ'], bins=bin_edges )\n",
    "    acc_count, _ = np.histogram( accepted['mJJ'], bins=bin_edges )\n",
    "    rej_count, _ = np.histogram( rejected['mJJ'], bins=bin_edges ) \n",
    "    return [tot_count, acc_count, rej_count]"
   ]
  },
  {
   "cell_type": "code",
   "execution_count": 69,
   "metadata": {},
   "outputs": [],
   "source": [
    "bin_edges = [1126,1181,1246,1313,1383,1455,1530,1607,1687,1770,1856,1945,2037,2132,2231,2332,2438,2546,2659,2775,2895,3019,3147,3279,3416,3558,3704,3854,4010,4171,4337,4509,4686,4869,5058,5253,5500,5663,5877,6099,6328,6564,6808]"
   ]
  },
  {
   "cell_type": "code",
   "execution_count": 70,
   "metadata": {},
   "outputs": [],
   "source": [
    "qcd_tot_cnt, qcd_acc_cnt, qcd_rej_cnt = get_bin_counts_total_acc_rej( qcd_sample, bin_edges )"
   ]
  },
  {
   "cell_type": "code",
   "execution_count": 71,
   "metadata": {},
   "outputs": [
    {
     "data": {
      "image/png": "[encoded data removed]",
      "text/plain": [
       "<matplotlib.figure.Figure at 0x7f712acfcfd0>"
      ]
     },
     "metadata": {},
     "output_type": "display_data"
    }
   ],
   "source": [
    "pu.plot_step(bin_edges[:-1],[qcd_tot_cnt, qcd_acc_cnt, qcd_rej_cnt],labels=['total','accepted','rejected'])"
   ]
  },
  {
   "cell_type": "code",
   "execution_count": 72,
   "metadata": {},
   "outputs": [
    {
     "data": {
      "image/png": "[encoded data removed]",
      "text/plain": [
       "<matplotlib.figure.Figure at 0x7f712ac34210>"
      ]
     },
     "metadata": {},
     "output_type": "display_data"
    }
   ],
   "source": [
    "sig_tot_cnt, sig_acc_cnt, sig_rej_cnt = get_bin_counts_total_acc_rej( signal_sample, bin_edges )\n",
    "pu.plot_step(bin_edges[:-1],[sig_tot_cnt, sig_acc_cnt, sig_rej_cnt],labels=['total','accepted','rejected'])"
   ]
  },
  {
   "cell_type": "markdown",
   "metadata": {},
   "source": [
    "# write bincounts"
   ]
  },
  {
   "cell_type": "code",
   "execution_count": 73,
   "metadata": {},
   "outputs": [],
   "source": [
    "def write_bin_counts( datasamples, bincounts, bin_edges, file_path ):\n",
    "    with h5py.File( file_path, 'w' ) as file_bin_counts:\n",
    "        for sample, counts in zip(datasamples,bincounts):\n",
    "            file_bin_counts.create_dataset(sample, data=counts)\n",
    "        file_bin_counts.create_dataset('bin_count_labels',data=['total','accepted','rejected'])\n",
    "        file_bin_counts.create_dataset('bin_edges',data=bin_edges)"
   ]
  },
  {
   "cell_type": "code",
   "execution_count": 75,
   "metadata": {},
   "outputs": [],
   "source": [
    "date = datetime.date.today().strftime(\"%m%d\")\n",
    "bin_file_path = '/eos/project/d/dshep/TOPCLASS/DijetAnomaly/VAE_boost/quant_1pct_loss_maxl1l2/bin_counts_flat_cut_'+date+'.h5'\n",
    "qcd_counts = np.stack((qcd_tot_cnt,qcd_acc_cnt,qcd_rej_cnt))\n",
    "sig_counts = np.stack((sig_tot_cnt,sig_acc_cnt,sig_rej_cnt))\n",
    "write_bin_counts([SM_sample,BSM_sample],[qcd_counts,sig_counts],bin_edges,bin_file_path)"
   ]
  },
  {
   "cell_type": "markdown",
   "metadata": {},
   "source": [
    "# check dumped data"
   ]
  },
  {
   "cell_type": "code",
   "execution_count": 76,
   "metadata": {},
   "outputs": [
    {
     "data": {
      "text/plain": [
       "'/eos/project/d/dshep/TOPCLASS/DijetAnomaly/VAE_boost/quant_1pct_loss_maxl1l2/bin_counts_flat_cut_0418.h5'"
      ]
     },
     "execution_count": 76,
     "metadata": {},
     "output_type": "execute_result"
    }
   ],
   "source": [
    "bin_file_path"
   ]
  },
  {
   "cell_type": "code",
   "execution_count": 77,
   "metadata": {},
   "outputs": [
    {
     "name": "stdout",
     "output_type": "stream",
     "text": [
      "[u'GtoWW30na', u'bin_count_labels', u'bin_edges', u'qcdSigAll']\n"
     ]
    },
    {
     "data": {
      "image/png": "[encoded data removed]",
      "text/plain": [
       "<matplotlib.figure.Figure at 0x7f712a524b10>"
      ]
     },
     "metadata": {},
     "output_type": "display_data"
    },
    {
     "data": {
      "image/png": "[encoded data removed]",
      "text/plain": [
       "<matplotlib.figure.Figure at 0x7f712a524c90>"
      ]
     },
     "metadata": {},
     "output_type": "display_data"
    }
   ],
   "source": [
    "f = h5py.File(bin_file_path,'r')\n",
    "print(f.keys())\n",
    "qcd_counts = f.get('qcdSigAll')\n",
    "sig_counts = f.get('GtoWW30na')\n",
    "qcd_tot, qcd_acc, qcd_rej = qcd_counts[0], qcd_counts[1], qcd_counts[2]\n",
    "sig_tot, sig_acc, sig_rej = sig_counts[0], sig_counts[1], sig_counts[2]\n",
    "pu.plot_step(bin_edges[:-1],[qcd_tot, qcd_acc, qcd_rej],labels=['total','accepted','rejected'])\n",
    "pu.plot_step(bin_edges[:-1],[sig_tot, sig_acc, sig_rej],labels=['total','accepted','rejected'])\n",
    "f.close()"
   ]
  },
  {
   "cell_type": "code",
   "execution_count": null,
   "metadata": {},
   "outputs": [],
   "source": []
  }
 ],
 "metadata": {
  "kernelspec": {
   "display_name": "Python 3",
   "language": "python",
   "name": "python3"
  },
  "language_info": {
   "codemirror_mode": {
    "name": "ipython",
    "version": 2
   },
   "file_extension": ".py",
   "mimetype": "text/x-python",
   "name": "python",
   "nbconvert_exporter": "python",
   "pygments_lexer": "ipython2",
   "version": "2.7.14+"
  }
 },
 "nbformat": 4,
 "nbformat_minor": 2
}
