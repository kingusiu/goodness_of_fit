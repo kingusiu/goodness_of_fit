{
 "cells": [
  {
   "cell_type": "code",
   "execution_count": 1,
   "metadata": {},
   "outputs": [],
   "source": [
    "import os\n",
    "import matplotlib.pyplot as plt\n",
    "import numpy as np\n",
    "from matplotlib.colors import LogNorm"
   ]
  },
  {
   "cell_type": "code",
   "execution_count": 2,
   "metadata": {},
   "outputs": [],
   "source": [
    "import string_constants as sc\n",
    "import reading_util as ru\n",
    "import data_sample as ds\n",
    "import discriminator as dm\n",
    "import selector as se\n",
    "import parameter as pa"
   ]
  },
  {
   "cell_type": "markdown",
   "metadata": {},
   "source": [
    "# function definitions"
   ]
  },
  {
   "cell_type": "code",
   "execution_count": 3,
   "metadata": {},
   "outputs": [],
   "source": [
    "Mjj_selection = 1100.\n",
    "def analyze_discriminator_cut( discriminator, sample ):\n",
    "    plt.figure(figsize=(8, 8))\n",
    "    x_min = Mjj_selection*0.8\n",
    "    x_max = np.percentile(sample['mJJ'], 99.99)\n",
    "    loss = discriminator.strategy(sample)\n",
    "    plt.hist2d(sample['mJJ'], loss,\n",
    "           #range=((x_min , x_max), (np.min(loss), np.percentile(loss, 1e2*(1-1e-4)))), \n",
    "           norm=LogNorm(), bins=100, label='signal data')\n",
    "\n",
    "    xs = np.arange(Mjj_selection, x_max, 0.001*(x_max-Mjj_selection))\n",
    "    plt.plot(xs, discriminator.selector.model.predict( xs ) , '-', color='m', lw=2.5, label='selection cut')\n",
    "    plt.ylabel(discriminator.strategy.title_str)\n",
    "    plt.xlabel('$M_{jj}$ [GeV]')\n",
    "    plt.title(sample.title() + ' ' + discriminator.title() )\n",
    "    plt.colorbar()\n",
    "    plt.legend(loc='best')\n",
    "    plt.draw()"
   ]
  },
  {
   "cell_type": "markdown",
   "metadata": {},
   "source": [
    "# runtime parameters"
   ]
  },
  {
   "cell_type": "code",
   "execution_count": 4,
   "metadata": {},
   "outputs": [],
   "source": [
    "# constant fraction wrt dijet mass of BG accepted\n",
    "quantile = pa.quantile_dict['q10'] # q1 = 1%\n",
    "# strategy for combining loss-jet-1 and loss-jet-2\n",
    "strategy = pa.loss_strategy_dict['s5'] # s5 = L1 & L2\n",
    "# discriminator accepted - rejected\n",
    "selector = pa.selector_dict['qr_full']"
   ]
  },
  {
   "cell_type": "markdown",
   "metadata": {},
   "source": [
    "# read in data"
   ]
  },
  {
   "cell_type": "code",
   "execution_count": 5,
   "metadata": {},
   "outputs": [],
   "source": [
    "SM_sample = 'qcdSigAll'\n",
    "qcd_path = os.path.join( sc.concat_result_dir, sc.sample_loc[SM_sample] + sc.concat_result_suffix )\n",
    "qcd_data_total = ds.read_datasample_from_file(SM_sample, qcd_path)"
   ]
  },
  {
   "cell_type": "markdown",
   "metadata": {},
   "source": [
    "# load discriminator"
   ]
  },
  {
   "cell_type": "code",
   "execution_count": 6,
   "metadata": {},
   "outputs": [
    {
     "name": "stdout",
     "output_type": "stream",
     "text": [
      "_________________________________________________________________\n",
      "Layer (type)                 Output Shape              Param #   \n",
      "=================================================================\n",
      "input_1 (InputLayer)         (None, 1)                 0         \n",
      "_________________________________________________________________\n",
      "dense_1 (Dense)              (None, 100)               200       \n",
      "_________________________________________________________________\n",
      "dense_2 (Dense)              (None, 100)               10100     \n",
      "_________________________________________________________________\n",
      "dense_3 (Dense)              (None, 100)               10100     \n",
      "_________________________________________________________________\n",
      "dense_4 (Dense)              (None, 100)               10100     \n",
      "_________________________________________________________________\n",
      "dense_5 (Dense)              (None, 1)                 101       \n",
      "=================================================================\n",
      "Total params: 30,601\n",
      "Trainable params: 30,601\n",
      "Non-trainable params: 0\n",
      "_________________________________________________________________\n"
     ]
    }
   ],
   "source": [
    "reload(dm)\n",
    "discriminator = dm.Discriminator( quantile, strategy, selector ) \n",
    "discriminator.load_selector('models/minl1l2_loss/qu_10pct/QR_full/model_0520_run_6.h5')"
   ]
  },
  {
   "cell_type": "code",
   "execution_count": 7,
   "metadata": {},
   "outputs": [
    {
     "data": {
      "image/png": "[encoded data removed]",
      "text/plain": [
       "<matplotlib.figure.Figure at 0x7f22e022fa50>"
      ]
     },
     "metadata": {},
     "output_type": "display_data"
    }
   ],
   "source": [
    "analyze_discriminator_cut( discriminator, qcd_data_total )"
   ]
  },
  {
   "cell_type": "code",
   "execution_count": null,
   "metadata": {},
   "outputs": [],
   "source": []
  }
 ],
 "metadata": {
  "kernelspec": {
   "display_name": "Python 3",
   "language": "python",
   "name": "python3"
  },
  "language_info": {
   "codemirror_mode": {
    "name": "ipython",
    "version": 3
   },
   "file_extension": ".py",
   "mimetype": "text/x-python",
   "name": "python",
   "nbconvert_exporter": "python",
   "pygments_lexer": "ipython3",
   "version": "3.6.0"
  }
 },
 "nbformat": 4,
 "nbformat_minor": 2
}
